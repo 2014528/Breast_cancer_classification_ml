{
 "cells": [
  {
   "cell_type": "markdown",
   "id": "8590731e",
   "metadata": {},
   "source": [
    "                                                    Breast Cancer Classification                                                                     "
   ]
  },
  {
   "cell_type": "markdown",
   "id": "38916d97",
   "metadata": {},
   "source": [
    "Module Name: M606 - Machine Learning           \n",
    "Professor - Prof. Dr. Mahmoudreza Babaei\n",
    "\n",
    "Submitted By:                   \n",
    "Student Name: Abhishek Kumar Gautam        \n",
    "Student id:  GH1039923"
   ]
  },
  {
   "cell_type": "markdown",
   "id": "16bf3bb5",
   "metadata": {},
   "source": [
    "GitHub Link: https://github.com/2014528/Breast_cancer_classification_ml"
   ]
  },
  {
   "cell_type": "markdown",
   "id": "40708e8f",
   "metadata": {},
   "source": [
    "Introduction\n",
    "\n",
    "Breast cancer continues to be one of the most common and serious cancer types worldwide, making timely and precise diagnosis essential for effective treatment. This initiative utilizes machine learning methods to create an automated classification system for diagnosing breast cancer, leveraging the Wisconsin Breast Cancer dataset. The main objective is to develop accurate classification models that can differentiate between malignant and benign breast cancer cases. \n",
    "To accomplish this, a range of machine learning algorithms, including Logistic Regression, Support Vector Classification (SVC), Random Forest Classification, K-Nearest Neighbors (KNN), and Naive Bayes, were employed and evaluated. The dataset, sourced from digitized images of fine needle aspirates (FNA) of breast masses, contains 30 unique features derived from cell nuclei images and categorizes cases as malignant (1) or benign (0). The approach included data preprocessing, model training, hyperparameter optimization using GridSearchCV, and thorough performance assessment through various metrics. The project is executed in Python, utilizing essential libraries such as scikit-learn, pandas, and numpy, alongside visualization tools like matplotlib and seaborn. The anticipated outcome of this project is to aid healthcare professionals in attaining quicker, more accurate diagnoses, minimize false positives and negatives, and enhance the early detection of breast cancer. The sections that follow will detail the implementation, findings, and analysis of the machine learning strategy for breast cancer classification.\n"
   ]
  },
  {
   "cell_type": "markdown",
   "id": "ca3d4f6d",
   "metadata": {},
   "source": [
    "Motivation\n",
    "\n",
    "Breast cancer is the most prevalent type of cancer worldwide, with more than 2.3 million new cases identified each year, highlighting the importance of early detection and precise diagnosis for better treatment outcomes. This initiative aims to tackle these challenges by employing machine learning to improve breast cancer classification. By utilizing data-driven approaches, the project seeks to minimize human error, enhance diagnostic precision, and expedite case processing to conserve valuable time. Machine learning algorithms can support healthcare professionals by providing trustworthy second opinions and assisting in effectively prioritizing cases. Through the optimization of hyperparameters and evaluation of various models, the project enhances the accuracy of current classification techniques. The overall societal benefits include making diagnostic tools more widely available, decreasing healthcare expenses, and ultimately facilitating quicker diagnoses, which result in earlier treatment. In addition to its technical advancements, this project could integrate with healthcare systems, improve diagnostic tools, and potentially extend to other types of cancer, contributing to the personalization of medicine and the progress of healthcare solutions on a global scale."
   ]
  },
  {
   "cell_type": "markdown",
   "id": "4b6b034c",
   "metadata": {},
   "source": [
    " Importing Required Libraries"
   ]
  },
  {
   "cell_type": "code",
   "execution_count": 1,
   "id": "8e1bd295",
   "metadata": {
    "_cell_guid": "b1076dfc-b9ad-4769-8c92-a6c4dae69d19",
    "_uuid": "8f2839f25d086af736a60e9eeb907d3b93b6e0e5",
    "execution": {
     "iopub.execute_input": "2024-11-05T19:00:14.999675Z",
     "iopub.status.busy": "2024-11-05T19:00:14.999226Z",
     "iopub.status.idle": "2024-11-05T19:00:17.653454Z",
     "shell.execute_reply": "2024-11-05T19:00:17.652227Z"
    },
    "papermill": {
     "duration": 2.6761,
     "end_time": "2024-11-05T19:00:17.656342",
     "exception": false,
     "start_time": "2024-11-05T19:00:14.980242",
     "status": "completed"
    },
    "tags": []
   },
   "outputs": [],
   "source": [
    "import numpy as np\n",
    "import pandas as pd\n",
    "import seaborn as sns\n",
    "import matplotlib.pyplot as plt"
   ]
  },
  {
   "cell_type": "markdown",
   "id": "beff3f05",
   "metadata": {},
   "source": [
    " Loading the Dataset"
   ]
  },
  {
   "cell_type": "code",
   "execution_count": 2,
   "id": "7cf9836c",
   "metadata": {
    "execution": {
     "iopub.execute_input": "2024-11-05T19:00:17.690219Z",
     "iopub.status.busy": "2024-11-05T19:00:17.689621Z",
     "iopub.status.idle": "2024-11-05T19:00:17.733374Z",
     "shell.execute_reply": "2024-11-05T19:00:17.732098Z"
    },
    "papermill": {
     "duration": 0.064385,
     "end_time": "2024-11-05T19:00:17.736297",
     "exception": false,
     "start_time": "2024-11-05T19:00:17.671912",
     "status": "completed"
    },
    "tags": []
   },
   "outputs": [],
   "source": [
    "df = pd.read_csv('Breast_Cancer.csv')"
   ]
  },
  {
   "cell_type": "markdown",
   "id": "dfe64f66",
   "metadata": {},
   "source": [
    "Displaying Dataset Information"
   ]
  },
  {
   "cell_type": "code",
   "execution_count": 3,
   "id": "42f6145c",
   "metadata": {
    "execution": {
     "iopub.execute_input": "2024-11-05T19:00:17.769374Z",
     "iopub.status.busy": "2024-11-05T19:00:17.768852Z",
     "iopub.status.idle": "2024-11-05T19:00:17.797517Z",
     "shell.execute_reply": "2024-11-05T19:00:17.796240Z"
    },
    "papermill": {
     "duration": 0.0483,
     "end_time": "2024-11-05T19:00:17.800398",
     "exception": false,
     "start_time": "2024-11-05T19:00:17.752098",
     "status": "completed"
    },
    "tags": []
   },
   "outputs": [
    {
     "data": {
      "text/html": [
       "<div>\n",
       "<style scoped>\n",
       "    .dataframe tbody tr th:only-of-type {\n",
       "        vertical-align: middle;\n",
       "    }\n",
       "\n",
       "    .dataframe tbody tr th {\n",
       "        vertical-align: top;\n",
       "    }\n",
       "\n",
       "    .dataframe thead th {\n",
       "        text-align: right;\n",
       "    }\n",
       "</style>\n",
       "<table border=\"1\" class=\"dataframe\">\n",
       "  <thead>\n",
       "    <tr style=\"text-align: right;\">\n",
       "      <th></th>\n",
       "      <th>Age</th>\n",
       "      <th>Race</th>\n",
       "      <th>Marital Status</th>\n",
       "      <th>T Stage</th>\n",
       "      <th>N Stage</th>\n",
       "      <th>6th Stage</th>\n",
       "      <th>differentiate</th>\n",
       "      <th>Grade</th>\n",
       "      <th>A Stage</th>\n",
       "      <th>Tumor Size</th>\n",
       "      <th>Estrogen Status</th>\n",
       "      <th>Progesterone Status</th>\n",
       "      <th>Regional Node Examined</th>\n",
       "      <th>Reginol Node Positive</th>\n",
       "      <th>Survival Months</th>\n",
       "      <th>Status</th>\n",
       "    </tr>\n",
       "  </thead>\n",
       "  <tbody>\n",
       "    <tr>\n",
       "      <th>0</th>\n",
       "      <td>68</td>\n",
       "      <td>White</td>\n",
       "      <td>Married</td>\n",
       "      <td>T1</td>\n",
       "      <td>N1</td>\n",
       "      <td>IIA</td>\n",
       "      <td>Poorly differentiated</td>\n",
       "      <td>3</td>\n",
       "      <td>Regional</td>\n",
       "      <td>4</td>\n",
       "      <td>Positive</td>\n",
       "      <td>Positive</td>\n",
       "      <td>24</td>\n",
       "      <td>1</td>\n",
       "      <td>60</td>\n",
       "      <td>Alive</td>\n",
       "    </tr>\n",
       "    <tr>\n",
       "      <th>1</th>\n",
       "      <td>50</td>\n",
       "      <td>White</td>\n",
       "      <td>Married</td>\n",
       "      <td>T2</td>\n",
       "      <td>N2</td>\n",
       "      <td>IIIA</td>\n",
       "      <td>Moderately differentiated</td>\n",
       "      <td>2</td>\n",
       "      <td>Regional</td>\n",
       "      <td>35</td>\n",
       "      <td>Positive</td>\n",
       "      <td>Positive</td>\n",
       "      <td>14</td>\n",
       "      <td>5</td>\n",
       "      <td>62</td>\n",
       "      <td>Alive</td>\n",
       "    </tr>\n",
       "    <tr>\n",
       "      <th>2</th>\n",
       "      <td>58</td>\n",
       "      <td>White</td>\n",
       "      <td>Divorced</td>\n",
       "      <td>T3</td>\n",
       "      <td>N3</td>\n",
       "      <td>IIIC</td>\n",
       "      <td>Moderately differentiated</td>\n",
       "      <td>2</td>\n",
       "      <td>Regional</td>\n",
       "      <td>63</td>\n",
       "      <td>Positive</td>\n",
       "      <td>Positive</td>\n",
       "      <td>14</td>\n",
       "      <td>7</td>\n",
       "      <td>75</td>\n",
       "      <td>Alive</td>\n",
       "    </tr>\n",
       "    <tr>\n",
       "      <th>3</th>\n",
       "      <td>58</td>\n",
       "      <td>White</td>\n",
       "      <td>Married</td>\n",
       "      <td>T1</td>\n",
       "      <td>N1</td>\n",
       "      <td>IIA</td>\n",
       "      <td>Poorly differentiated</td>\n",
       "      <td>3</td>\n",
       "      <td>Regional</td>\n",
       "      <td>18</td>\n",
       "      <td>Positive</td>\n",
       "      <td>Positive</td>\n",
       "      <td>2</td>\n",
       "      <td>1</td>\n",
       "      <td>84</td>\n",
       "      <td>Alive</td>\n",
       "    </tr>\n",
       "    <tr>\n",
       "      <th>4</th>\n",
       "      <td>47</td>\n",
       "      <td>White</td>\n",
       "      <td>Married</td>\n",
       "      <td>T2</td>\n",
       "      <td>N1</td>\n",
       "      <td>IIB</td>\n",
       "      <td>Poorly differentiated</td>\n",
       "      <td>3</td>\n",
       "      <td>Regional</td>\n",
       "      <td>41</td>\n",
       "      <td>Positive</td>\n",
       "      <td>Positive</td>\n",
       "      <td>3</td>\n",
       "      <td>1</td>\n",
       "      <td>50</td>\n",
       "      <td>Alive</td>\n",
       "    </tr>\n",
       "  </tbody>\n",
       "</table>\n",
       "</div>"
      ],
      "text/plain": [
       "   Age   Race Marital Status T Stage  N Stage 6th Stage  \\\n",
       "0   68  White        Married       T1      N1       IIA   \n",
       "1   50  White        Married       T2      N2      IIIA   \n",
       "2   58  White       Divorced       T3      N3      IIIC   \n",
       "3   58  White        Married       T1      N1       IIA   \n",
       "4   47  White        Married       T2      N1       IIB   \n",
       "\n",
       "               differentiate Grade   A Stage  Tumor Size Estrogen Status  \\\n",
       "0      Poorly differentiated     3  Regional           4        Positive   \n",
       "1  Moderately differentiated     2  Regional          35        Positive   \n",
       "2  Moderately differentiated     2  Regional          63        Positive   \n",
       "3      Poorly differentiated     3  Regional          18        Positive   \n",
       "4      Poorly differentiated     3  Regional          41        Positive   \n",
       "\n",
       "  Progesterone Status  Regional Node Examined  Reginol Node Positive  \\\n",
       "0            Positive                      24                      1   \n",
       "1            Positive                      14                      5   \n",
       "2            Positive                      14                      7   \n",
       "3            Positive                       2                      1   \n",
       "4            Positive                       3                      1   \n",
       "\n",
       "   Survival Months Status  \n",
       "0               60  Alive  \n",
       "1               62  Alive  \n",
       "2               75  Alive  \n",
       "3               84  Alive  \n",
       "4               50  Alive  "
      ]
     },
     "execution_count": 3,
     "metadata": {},
     "output_type": "execute_result"
    }
   ],
   "source": [
    "df.head()"
   ]
  },
  {
   "cell_type": "code",
   "execution_count": 4,
   "id": "d970a506",
   "metadata": {
    "execution": {
     "iopub.execute_input": "2024-11-05T19:00:17.834292Z",
     "iopub.status.busy": "2024-11-05T19:00:17.833763Z",
     "iopub.status.idle": "2024-11-05T19:00:17.854393Z",
     "shell.execute_reply": "2024-11-05T19:00:17.853249Z"
    },
    "papermill": {
     "duration": 0.040707,
     "end_time": "2024-11-05T19:00:17.856986",
     "exception": false,
     "start_time": "2024-11-05T19:00:17.816279",
     "status": "completed"
    },
    "tags": []
   },
   "outputs": [
    {
     "data": {
      "text/html": [
       "<div>\n",
       "<style scoped>\n",
       "    .dataframe tbody tr th:only-of-type {\n",
       "        vertical-align: middle;\n",
       "    }\n",
       "\n",
       "    .dataframe tbody tr th {\n",
       "        vertical-align: top;\n",
       "    }\n",
       "\n",
       "    .dataframe thead th {\n",
       "        text-align: right;\n",
       "    }\n",
       "</style>\n",
       "<table border=\"1\" class=\"dataframe\">\n",
       "  <thead>\n",
       "    <tr style=\"text-align: right;\">\n",
       "      <th></th>\n",
       "      <th>Age</th>\n",
       "      <th>Race</th>\n",
       "      <th>Marital Status</th>\n",
       "      <th>T Stage</th>\n",
       "      <th>N Stage</th>\n",
       "      <th>6th Stage</th>\n",
       "      <th>differentiate</th>\n",
       "      <th>Grade</th>\n",
       "      <th>A Stage</th>\n",
       "      <th>Tumor Size</th>\n",
       "      <th>Estrogen Status</th>\n",
       "      <th>Progesterone Status</th>\n",
       "      <th>Regional Node Examined</th>\n",
       "      <th>Reginol Node Positive</th>\n",
       "      <th>Survival Months</th>\n",
       "      <th>Status</th>\n",
       "    </tr>\n",
       "  </thead>\n",
       "  <tbody>\n",
       "    <tr>\n",
       "      <th>4019</th>\n",
       "      <td>62</td>\n",
       "      <td>Other</td>\n",
       "      <td>Married</td>\n",
       "      <td>T1</td>\n",
       "      <td>N1</td>\n",
       "      <td>IIA</td>\n",
       "      <td>Moderately differentiated</td>\n",
       "      <td>2</td>\n",
       "      <td>Regional</td>\n",
       "      <td>9</td>\n",
       "      <td>Positive</td>\n",
       "      <td>Positive</td>\n",
       "      <td>1</td>\n",
       "      <td>1</td>\n",
       "      <td>49</td>\n",
       "      <td>Alive</td>\n",
       "    </tr>\n",
       "    <tr>\n",
       "      <th>4020</th>\n",
       "      <td>56</td>\n",
       "      <td>White</td>\n",
       "      <td>Divorced</td>\n",
       "      <td>T2</td>\n",
       "      <td>N2</td>\n",
       "      <td>IIIA</td>\n",
       "      <td>Moderately differentiated</td>\n",
       "      <td>2</td>\n",
       "      <td>Regional</td>\n",
       "      <td>46</td>\n",
       "      <td>Positive</td>\n",
       "      <td>Positive</td>\n",
       "      <td>14</td>\n",
       "      <td>8</td>\n",
       "      <td>69</td>\n",
       "      <td>Alive</td>\n",
       "    </tr>\n",
       "    <tr>\n",
       "      <th>4021</th>\n",
       "      <td>68</td>\n",
       "      <td>White</td>\n",
       "      <td>Married</td>\n",
       "      <td>T2</td>\n",
       "      <td>N1</td>\n",
       "      <td>IIB</td>\n",
       "      <td>Moderately differentiated</td>\n",
       "      <td>2</td>\n",
       "      <td>Regional</td>\n",
       "      <td>22</td>\n",
       "      <td>Positive</td>\n",
       "      <td>Negative</td>\n",
       "      <td>11</td>\n",
       "      <td>3</td>\n",
       "      <td>69</td>\n",
       "      <td>Alive</td>\n",
       "    </tr>\n",
       "    <tr>\n",
       "      <th>4022</th>\n",
       "      <td>58</td>\n",
       "      <td>Black</td>\n",
       "      <td>Divorced</td>\n",
       "      <td>T2</td>\n",
       "      <td>N1</td>\n",
       "      <td>IIB</td>\n",
       "      <td>Moderately differentiated</td>\n",
       "      <td>2</td>\n",
       "      <td>Regional</td>\n",
       "      <td>44</td>\n",
       "      <td>Positive</td>\n",
       "      <td>Positive</td>\n",
       "      <td>11</td>\n",
       "      <td>1</td>\n",
       "      <td>72</td>\n",
       "      <td>Alive</td>\n",
       "    </tr>\n",
       "    <tr>\n",
       "      <th>4023</th>\n",
       "      <td>46</td>\n",
       "      <td>White</td>\n",
       "      <td>Married</td>\n",
       "      <td>T2</td>\n",
       "      <td>N1</td>\n",
       "      <td>IIB</td>\n",
       "      <td>Moderately differentiated</td>\n",
       "      <td>2</td>\n",
       "      <td>Regional</td>\n",
       "      <td>30</td>\n",
       "      <td>Positive</td>\n",
       "      <td>Positive</td>\n",
       "      <td>7</td>\n",
       "      <td>2</td>\n",
       "      <td>100</td>\n",
       "      <td>Alive</td>\n",
       "    </tr>\n",
       "  </tbody>\n",
       "</table>\n",
       "</div>"
      ],
      "text/plain": [
       "      Age   Race Marital Status T Stage  N Stage 6th Stage  \\\n",
       "4019   62  Other        Married       T1      N1       IIA   \n",
       "4020   56  White       Divorced       T2      N2      IIIA   \n",
       "4021   68  White        Married       T2      N1       IIB   \n",
       "4022   58  Black       Divorced       T2      N1       IIB   \n",
       "4023   46  White        Married       T2      N1       IIB   \n",
       "\n",
       "                  differentiate Grade   A Stage  Tumor Size Estrogen Status  \\\n",
       "4019  Moderately differentiated     2  Regional           9        Positive   \n",
       "4020  Moderately differentiated     2  Regional          46        Positive   \n",
       "4021  Moderately differentiated     2  Regional          22        Positive   \n",
       "4022  Moderately differentiated     2  Regional          44        Positive   \n",
       "4023  Moderately differentiated     2  Regional          30        Positive   \n",
       "\n",
       "     Progesterone Status  Regional Node Examined  Reginol Node Positive  \\\n",
       "4019            Positive                       1                      1   \n",
       "4020            Positive                      14                      8   \n",
       "4021            Negative                      11                      3   \n",
       "4022            Positive                      11                      1   \n",
       "4023            Positive                       7                      2   \n",
       "\n",
       "      Survival Months Status  \n",
       "4019               49  Alive  \n",
       "4020               69  Alive  \n",
       "4021               69  Alive  \n",
       "4022               72  Alive  \n",
       "4023              100  Alive  "
      ]
     },
     "execution_count": 4,
     "metadata": {},
     "output_type": "execute_result"
    }
   ],
   "source": [
    "df.tail()"
   ]
  },
  {
   "cell_type": "code",
   "execution_count": 5,
   "id": "1e84ba13",
   "metadata": {
    "execution": {
     "iopub.execute_input": "2024-11-05T19:00:17.892369Z",
     "iopub.status.busy": "2024-11-05T19:00:17.891498Z",
     "iopub.status.idle": "2024-11-05T19:00:17.924360Z",
     "shell.execute_reply": "2024-11-05T19:00:17.923071Z"
    },
    "papermill": {
     "duration": 0.053537,
     "end_time": "2024-11-05T19:00:17.927135",
     "exception": false,
     "start_time": "2024-11-05T19:00:17.873598",
     "status": "completed"
    },
    "tags": []
   },
   "outputs": [
    {
     "name": "stdout",
     "output_type": "stream",
     "text": [
      "<class 'pandas.core.frame.DataFrame'>\n",
      "RangeIndex: 4024 entries, 0 to 4023\n",
      "Data columns (total 16 columns):\n",
      " #   Column                  Non-Null Count  Dtype \n",
      "---  ------                  --------------  ----- \n",
      " 0   Age                     4024 non-null   int64 \n",
      " 1   Race                    4024 non-null   object\n",
      " 2   Marital Status          4024 non-null   object\n",
      " 3   T Stage                 4024 non-null   object\n",
      " 4   N Stage                 4024 non-null   object\n",
      " 5   6th Stage               4024 non-null   object\n",
      " 6   differentiate           4024 non-null   object\n",
      " 7   Grade                   4024 non-null   object\n",
      " 8   A Stage                 4024 non-null   object\n",
      " 9   Tumor Size              4024 non-null   int64 \n",
      " 10  Estrogen Status         4024 non-null   object\n",
      " 11  Progesterone Status     4024 non-null   object\n",
      " 12  Regional Node Examined  4024 non-null   int64 \n",
      " 13  Reginol Node Positive   4024 non-null   int64 \n",
      " 14  Survival Months         4024 non-null   int64 \n",
      " 15  Status                  4024 non-null   object\n",
      "dtypes: int64(5), object(11)\n",
      "memory usage: 503.1+ KB\n"
     ]
    }
   ],
   "source": [
    "df.info()"
   ]
  },
  {
   "cell_type": "markdown",
   "id": "75d16632",
   "metadata": {},
   "source": [
    "Data Cleaning"
   ]
  },
  {
   "cell_type": "markdown",
   "id": "6ca803f9",
   "metadata": {},
   "source": [
    "Checking for Missing Values"
   ]
  },
  {
   "cell_type": "code",
   "execution_count": 6,
   "id": "b3aabc03",
   "metadata": {
    "execution": {
     "iopub.execute_input": "2024-11-05T19:00:17.962139Z",
     "iopub.status.busy": "2024-11-05T19:00:17.961616Z",
     "iopub.status.idle": "2024-11-05T19:00:17.976808Z",
     "shell.execute_reply": "2024-11-05T19:00:17.975444Z"
    },
    "papermill": {
     "duration": 0.035578,
     "end_time": "2024-11-05T19:00:17.979366",
     "exception": false,
     "start_time": "2024-11-05T19:00:17.943788",
     "status": "completed"
    },
    "tags": []
   },
   "outputs": [
    {
     "data": {
      "text/plain": [
       "Age                       0\n",
       "Race                      0\n",
       "Marital Status            0\n",
       "T Stage                   0\n",
       "N Stage                   0\n",
       "6th Stage                 0\n",
       "differentiate             0\n",
       "Grade                     0\n",
       "A Stage                   0\n",
       "Tumor Size                0\n",
       "Estrogen Status           0\n",
       "Progesterone Status       0\n",
       "Regional Node Examined    0\n",
       "Reginol Node Positive     0\n",
       "Survival Months           0\n",
       "Status                    0\n",
       "dtype: int64"
      ]
     },
     "execution_count": 6,
     "metadata": {},
     "output_type": "execute_result"
    }
   ],
   "source": [
    "df.isna().sum()"
   ]
  },
  {
   "cell_type": "markdown",
   "id": "afe68d7d",
   "metadata": {},
   "source": [
    "Checking for Duplicates"
   ]
  },
  {
   "cell_type": "code",
   "execution_count": 7,
   "id": "51f6432d",
   "metadata": {
    "execution": {
     "iopub.execute_input": "2024-11-05T19:00:18.014950Z",
     "iopub.status.busy": "2024-11-05T19:00:18.014495Z",
     "iopub.status.idle": "2024-11-05T19:00:18.029880Z",
     "shell.execute_reply": "2024-11-05T19:00:18.028633Z"
    },
    "papermill": {
     "duration": 0.03674,
     "end_time": "2024-11-05T19:00:18.032811",
     "exception": false,
     "start_time": "2024-11-05T19:00:17.996071",
     "status": "completed"
    },
    "tags": []
   },
   "outputs": [
    {
     "data": {
      "text/plain": [
       "np.int64(1)"
      ]
     },
     "execution_count": 7,
     "metadata": {},
     "output_type": "execute_result"
    }
   ],
   "source": [
    "df.duplicated().sum()"
   ]
  },
  {
   "cell_type": "markdown",
   "id": "0b307082",
   "metadata": {},
   "source": [
    "Removing Duplicates"
   ]
  },
  {
   "cell_type": "code",
   "execution_count": 8,
   "id": "8db68898",
   "metadata": {
    "execution": {
     "iopub.execute_input": "2024-11-05T19:00:18.068538Z",
     "iopub.status.busy": "2024-11-05T19:00:18.068064Z",
     "iopub.status.idle": "2024-11-05T19:00:18.084642Z",
     "shell.execute_reply": "2024-11-05T19:00:18.083366Z"
    },
    "papermill": {
     "duration": 0.037888,
     "end_time": "2024-11-05T19:00:18.087593",
     "exception": false,
     "start_time": "2024-11-05T19:00:18.049705",
     "status": "completed"
    },
    "tags": []
   },
   "outputs": [],
   "source": [
    "df.drop_duplicates(inplace = True)"
   ]
  },
  {
   "cell_type": "markdown",
   "id": "2b541176",
   "metadata": {},
   "source": [
    "Confirming Duplicates Removal"
   ]
  },
  {
   "cell_type": "code",
   "execution_count": 9,
   "id": "a977dadd",
   "metadata": {
    "execution": {
     "iopub.execute_input": "2024-11-05T19:00:18.124459Z",
     "iopub.status.busy": "2024-11-05T19:00:18.123957Z",
     "iopub.status.idle": "2024-11-05T19:00:18.139878Z",
     "shell.execute_reply": "2024-11-05T19:00:18.138642Z"
    },
    "papermill": {
     "duration": 0.038062,
     "end_time": "2024-11-05T19:00:18.142684",
     "exception": false,
     "start_time": "2024-11-05T19:00:18.104622",
     "status": "completed"
    },
    "tags": []
   },
   "outputs": [
    {
     "data": {
      "text/plain": [
       "np.int64(0)"
      ]
     },
     "execution_count": 9,
     "metadata": {},
     "output_type": "execute_result"
    }
   ],
   "source": [
    "df.duplicated().sum()"
   ]
  },
  {
   "cell_type": "markdown",
   "id": "a3139b9e",
   "metadata": {},
   "source": [
    "Dataset Shape and Column Analysis"
   ]
  },
  {
   "cell_type": "code",
   "execution_count": 10,
   "id": "eaf6e2a3",
   "metadata": {
    "execution": {
     "iopub.execute_input": "2024-11-05T19:00:18.178446Z",
     "iopub.status.busy": "2024-11-05T19:00:18.177954Z",
     "iopub.status.idle": "2024-11-05T19:00:18.185838Z",
     "shell.execute_reply": "2024-11-05T19:00:18.184696Z"
    },
    "papermill": {
     "duration": 0.028582,
     "end_time": "2024-11-05T19:00:18.188365",
     "exception": false,
     "start_time": "2024-11-05T19:00:18.159783",
     "status": "completed"
    },
    "tags": []
   },
   "outputs": [
    {
     "data": {
      "text/plain": [
       "(4023, 16)"
      ]
     },
     "execution_count": 10,
     "metadata": {},
     "output_type": "execute_result"
    }
   ],
   "source": [
    "df.shape"
   ]
  },
  {
   "cell_type": "code",
   "execution_count": 11,
   "id": "ff2caf47",
   "metadata": {
    "execution": {
     "iopub.execute_input": "2024-11-05T19:00:18.225817Z",
     "iopub.status.busy": "2024-11-05T19:00:18.224523Z",
     "iopub.status.idle": "2024-11-05T19:00:18.231487Z",
     "shell.execute_reply": "2024-11-05T19:00:18.230256Z"
    },
    "papermill": {
     "duration": 0.028775,
     "end_time": "2024-11-05T19:00:18.234511",
     "exception": false,
     "start_time": "2024-11-05T19:00:18.205736",
     "status": "completed"
    },
    "tags": []
   },
   "outputs": [
    {
     "name": "stdout",
     "output_type": "stream",
     "text": [
      "The Rows is : 4023\n",
      "The Columns is : 16\n"
     ]
    }
   ],
   "source": [
    "print(\"The Rows is :\" , df.shape[0])\n",
    "print(\"The Columns is :\" , df.shape[1])"
   ]
  },
  {
   "cell_type": "markdown",
   "id": "e87c5727",
   "metadata": {},
   "source": [
    "Data Visualization"
   ]
  },
  {
   "cell_type": "code",
   "execution_count": 12,
   "id": "9985d071",
   "metadata": {
    "execution": {
     "iopub.execute_input": "2024-11-05T19:00:18.271097Z",
     "iopub.status.busy": "2024-11-05T19:00:18.270013Z",
     "iopub.status.idle": "2024-11-05T19:00:24.502099Z",
     "shell.execute_reply": "2024-11-05T19:00:24.500991Z"
    },
    "papermill": {
     "duration": 6.2532,
     "end_time": "2024-11-05T19:00:24.504866",
     "exception": false,
     "start_time": "2024-11-05T19:00:18.251666",
     "status": "completed"
    },
    "tags": []
   },
   "outputs": [
    {
     "name": "stdout",
     "output_type": "stream",
     "text": [
      "Age\n"
     ]
    },
    {
     "data": {
      "image/png": "[encoded data removed]",
      "text/plain": [
       "<Figure size 640x480 with 1 Axes>"
      ]
     },
     "metadata": {},
     "output_type": "display_data"
    },
    {
     "name": "stdout",
     "output_type": "stream",
     "text": [
      "Race\n"
     ]
    },
    {
     "data": {
      "image/png": "[encoded data removed]",
      "text/plain": [
       "<Figure size 640x480 with 1 Axes>"
      ]
     },
     "metadata": {},
     "output_type": "display_data"
    },
    {
     "name": "stdout",
     "output_type": "stream",
     "text": [
      "Marital Status\n"
     ]
    },
    {
     "data": {
      "image/png": "[encoded data removed]",
      "text/plain": [
       "<Figure size 640x480 with 1 Axes>"
      ]
     },
     "metadata": {},
     "output_type": "display_data"
    },
    {
     "name": "stdout",
     "output_type": "stream",
     "text": [
      "T Stage \n"
     ]
    },
    {
     "data": {
      "image/png": "[encoded data removed]",
      "text/plain": [
       "<Figure size 640x480 with 1 Axes>"
      ]
     },
     "metadata": {},
     "output_type": "display_data"
    },
    {
     "name": "stdout",
     "output_type": "stream",
     "text": [
      "N Stage\n"
     ]
    },
    {
     "data": {
      "image/png": "[encoded data removed]",
      "text/plain": [
       "<Figure size 640x480 with 1 Axes>"
      ]
     },
     "metadata": {},
     "output_type": "display_data"
    },
    {
     "name": "stdout",
     "output_type": "stream",
     "text": [
      "6th Stage\n"
     ]
    },
    {
     "data": {
      "image/png": "[encoded data removed]",
      "text/plain": [
       "<Figure size 640x480 with 1 Axes>"
      ]
     },
     "metadata": {},
     "output_type": "display_data"
    },
    {
     "name": "stdout",
     "output_type": "stream",
     "text": [
      "differentiate\n"
     ]
    },
    {
     "data": {
      "image/png": "[encoded data removed]",
      "text/plain": [
       "<Figure size 640x480 with 1 Axes>"
      ]
     },
     "metadata": {},
     "output_type": "display_data"
    },
    {
     "name": "stdout",
     "output_type": "stream",
     "text": [
      "Grade\n"
     ]
    },
    {
     "data": {
      "image/png": "[encoded data removed]",
      "text/plain": [
       "<Figure size 640x480 with 1 Axes>"
      ]
     },
     "metadata": {},
     "output_type": "display_data"
    },
    {
     "name": "stdout",
     "output_type": "stream",
     "text": [
      "A Stage\n"
     ]
    },
    {
     "data": {
      "image/png": "[encoded data removed]",
      "text/plain": [
       "<Figure size 640x480 with 1 Axes>"
      ]
     },
     "metadata": {},
     "output_type": "display_data"
    },
    {
     "name": "stdout",
     "output_type": "stream",
     "text": [
      "Tumor Size\n"
     ]
    },
    {
     "data": {
      "image/png": "[encoded data removed]",
      "text/plain": [
       "<Figure size 640x480 with 1 Axes>"
      ]
     },
     "metadata": {},
     "output_type": "display_data"
    },
    {
     "name": "stdout",
     "output_type": "stream",
     "text": [
      "Estrogen Status\n"
     ]
    },
    {
     "data": {
      "image/png": "[encoded data removed]",
      "text/plain": [
       "<Figure size 640x480 with 1 Axes>"
      ]
     },
     "metadata": {},
     "output_type": "display_data"
    },
    {
     "name": "stdout",
     "output_type": "stream",
     "text": [
      "Progesterone Status\n"
     ]
    },
    {
     "data": {
      "image/png": "[encoded data removed]",
      "text/plain": [
       "<Figure size 640x480 with 1 Axes>"
      ]
     },
     "metadata": {},
     "output_type": "display_data"
    },
    {
     "name": "stdout",
     "output_type": "stream",
     "text": [
      "Regional Node Examined\n"
     ]
    },
    {
     "data": {
      "image/png": "[encoded data removed]",
      "text/plain": [
       "<Figure size 640x480 with 1 Axes>"
      ]
     },
     "metadata": {},
     "output_type": "display_data"
    },
    {
     "name": "stdout",
     "output_type": "stream",
     "text": [
      "Reginol Node Positive\n"
     ]
    },
    {
     "data": {
      "image/png": "[encoded data removed]",
      "text/plain": [
       "<Figure size 640x480 with 1 Axes>"
      ]
     },
     "metadata": {},
     "output_type": "display_data"
    },
    {
     "name": "stdout",
     "output_type": "stream",
     "text": [
      "Survival Months\n"
     ]
    },
    {
     "data": {
      "image/png": "[encoded data removed]",
      "text/plain": [
       "<Figure size 640x480 with 1 Axes>"
      ]
     },
     "metadata": {},
     "output_type": "display_data"
    },
    {
     "name": "stdout",
     "output_type": "stream",
     "text": [
      "Status\n"
     ]
    },
    {
     "data": {
      "image/png": "[encoded data removed]",
      "text/plain": [
       "<Figure size 640x480 with 1 Axes>"
      ]
     },
     "metadata": {},
     "output_type": "display_data"
    }
   ],
   "source": [
    "for col in df.columns:\n",
    "    df[col].value_counts().plot.bar()\n",
    "    print(col)\n",
    "    plt.show()"
   ]
  },
  {
   "cell_type": "code",
   "execution_count": 13,
   "id": "bbb7d3ee",
   "metadata": {
    "execution": {
     "iopub.execute_input": "2024-11-05T19:00:24.629684Z",
     "iopub.status.busy": "2024-11-05T19:00:24.628849Z",
     "iopub.status.idle": "2024-11-05T19:00:24.646843Z",
     "shell.execute_reply": "2024-11-05T19:00:24.645351Z"
    },
    "papermill": {
     "duration": 0.046656,
     "end_time": "2024-11-05T19:00:24.649548",
     "exception": false,
     "start_time": "2024-11-05T19:00:24.602892",
     "status": "completed"
    },
    "tags": []
   },
   "outputs": [
    {
     "name": "stdout",
     "output_type": "stream",
     "text": [
      "<class 'pandas.core.frame.DataFrame'>\n",
      "Index: 4023 entries, 0 to 4023\n",
      "Data columns (total 16 columns):\n",
      " #   Column                  Non-Null Count  Dtype \n",
      "---  ------                  --------------  ----- \n",
      " 0   Age                     4023 non-null   int64 \n",
      " 1   Race                    4023 non-null   object\n",
      " 2   Marital Status          4023 non-null   object\n",
      " 3   T Stage                 4023 non-null   object\n",
      " 4   N Stage                 4023 non-null   object\n",
      " 5   6th Stage               4023 non-null   object\n",
      " 6   differentiate           4023 non-null   object\n",
      " 7   Grade                   4023 non-null   object\n",
      " 8   A Stage                 4023 non-null   object\n",
      " 9   Tumor Size              4023 non-null   int64 \n",
      " 10  Estrogen Status         4023 non-null   object\n",
      " 11  Progesterone Status     4023 non-null   object\n",
      " 12  Regional Node Examined  4023 non-null   int64 \n",
      " 13  Reginol Node Positive   4023 non-null   int64 \n",
      " 14  Survival Months         4023 non-null   int64 \n",
      " 15  Status                  4023 non-null   object\n",
      "dtypes: int64(5), object(11)\n",
      "memory usage: 534.3+ KB\n"
     ]
    }
   ],
   "source": [
    "df.info()"
   ]
  },
  {
   "cell_type": "code",
   "execution_count": 14,
   "id": "c6343db0",
   "metadata": {},
   "outputs": [
    {
     "data": {
      "text/html": [
       "<div>\n",
       "<style scoped>\n",
       "    .dataframe tbody tr th:only-of-type {\n",
       "        vertical-align: middle;\n",
       "    }\n",
       "\n",
       "    .dataframe tbody tr th {\n",
       "        vertical-align: top;\n",
       "    }\n",
       "\n",
       "    .dataframe thead th {\n",
       "        text-align: right;\n",
       "    }\n",
       "</style>\n",
       "<table border=\"1\" class=\"dataframe\">\n",
       "  <thead>\n",
       "    <tr style=\"text-align: right;\">\n",
       "      <th></th>\n",
       "      <th>Age</th>\n",
       "      <th>Tumor Size</th>\n",
       "      <th>Regional Node Examined</th>\n",
       "      <th>Reginol Node Positive</th>\n",
       "      <th>Survival Months</th>\n",
       "    </tr>\n",
       "  </thead>\n",
       "  <tbody>\n",
       "    <tr>\n",
       "      <th>count</th>\n",
       "      <td>4023.000000</td>\n",
       "      <td>4023.000000</td>\n",
       "      <td>4023.000000</td>\n",
       "      <td>4023.000000</td>\n",
       "      <td>4023.000000</td>\n",
       "    </tr>\n",
       "    <tr>\n",
       "      <th>mean</th>\n",
       "      <td>53.969923</td>\n",
       "      <td>30.477007</td>\n",
       "      <td>14.358439</td>\n",
       "      <td>4.158837</td>\n",
       "      <td>71.301765</td>\n",
       "    </tr>\n",
       "    <tr>\n",
       "      <th>std</th>\n",
       "      <td>8.963118</td>\n",
       "      <td>21.121253</td>\n",
       "      <td>8.100241</td>\n",
       "      <td>5.109724</td>\n",
       "      <td>22.923009</td>\n",
       "    </tr>\n",
       "    <tr>\n",
       "      <th>min</th>\n",
       "      <td>30.000000</td>\n",
       "      <td>1.000000</td>\n",
       "      <td>1.000000</td>\n",
       "      <td>1.000000</td>\n",
       "      <td>1.000000</td>\n",
       "    </tr>\n",
       "    <tr>\n",
       "      <th>25%</th>\n",
       "      <td>47.000000</td>\n",
       "      <td>16.000000</td>\n",
       "      <td>9.000000</td>\n",
       "      <td>1.000000</td>\n",
       "      <td>56.000000</td>\n",
       "    </tr>\n",
       "    <tr>\n",
       "      <th>50%</th>\n",
       "      <td>54.000000</td>\n",
       "      <td>25.000000</td>\n",
       "      <td>14.000000</td>\n",
       "      <td>2.000000</td>\n",
       "      <td>73.000000</td>\n",
       "    </tr>\n",
       "    <tr>\n",
       "      <th>75%</th>\n",
       "      <td>61.000000</td>\n",
       "      <td>38.000000</td>\n",
       "      <td>19.000000</td>\n",
       "      <td>5.000000</td>\n",
       "      <td>90.000000</td>\n",
       "    </tr>\n",
       "    <tr>\n",
       "      <th>max</th>\n",
       "      <td>69.000000</td>\n",
       "      <td>140.000000</td>\n",
       "      <td>61.000000</td>\n",
       "      <td>46.000000</td>\n",
       "      <td>107.000000</td>\n",
       "    </tr>\n",
       "  </tbody>\n",
       "</table>\n",
       "</div>"
      ],
      "text/plain": [
       "               Age   Tumor Size  Regional Node Examined  \\\n",
       "count  4023.000000  4023.000000             4023.000000   \n",
       "mean     53.969923    30.477007               14.358439   \n",
       "std       8.963118    21.121253                8.100241   \n",
       "min      30.000000     1.000000                1.000000   \n",
       "25%      47.000000    16.000000                9.000000   \n",
       "50%      54.000000    25.000000               14.000000   \n",
       "75%      61.000000    38.000000               19.000000   \n",
       "max      69.000000   140.000000               61.000000   \n",
       "\n",
       "       Reginol Node Positive  Survival Months  \n",
       "count            4023.000000      4023.000000  \n",
       "mean                4.158837        71.301765  \n",
       "std                 5.109724        22.923009  \n",
       "min                 1.000000         1.000000  \n",
       "25%                 1.000000        56.000000  \n",
       "50%                 2.000000        73.000000  \n",
       "75%                 5.000000        90.000000  \n",
       "max                46.000000       107.000000  "
      ]
     },
     "execution_count": 14,
     "metadata": {},
     "output_type": "execute_result"
    }
   ],
   "source": [
    "df.describe()"
   ]
  },
  {
   "cell_type": "code",
   "execution_count": 15,
   "id": "a60b3d25",
   "metadata": {
    "execution": {
     "iopub.execute_input": "2024-11-05T19:00:24.701557Z",
     "iopub.status.busy": "2024-11-05T19:00:24.701048Z",
     "iopub.status.idle": "2024-11-05T19:00:24.709217Z",
     "shell.execute_reply": "2024-11-05T19:00:24.707933Z"
    },
    "papermill": {
     "duration": 0.036987,
     "end_time": "2024-11-05T19:00:24.711622",
     "exception": false,
     "start_time": "2024-11-05T19:00:24.674635",
     "status": "completed"
    },
    "tags": []
   },
   "outputs": [
    {
     "data": {
      "text/plain": [
       "Index(['Age', 'Race', 'Marital Status', 'T Stage ', 'N Stage', '6th Stage',\n",
       "       'differentiate', 'Grade', 'A Stage', 'Tumor Size', 'Estrogen Status',\n",
       "       'Progesterone Status', 'Regional Node Examined',\n",
       "       'Reginol Node Positive', 'Survival Months', 'Status'],\n",
       "      dtype='object')"
      ]
     },
     "execution_count": 15,
     "metadata": {},
     "output_type": "execute_result"
    }
   ],
   "source": [
    "df.columns"
   ]
  },
  {
   "cell_type": "markdown",
   "id": "b8edc19e",
   "metadata": {},
   "source": [
    "Feature Engineering\n",
    "\n",
    "Implemented label encoding on categorical variables (such as Race, Marital Status, T Stage, Grade, etc.) to transform them into numerical values suitable for machine learning algorithms.\n",
    "\n",
    "Employed Label Encoding on categorical variables (N Stage, 6th Stage, differentiate, and Grade) to convert text labels into numerical values for model implementation."
   ]
  },
  {
   "cell_type": "markdown",
   "id": "25991677",
   "metadata": {},
   "source": [
    "label encoding:"
   ]
  },
  {
   "cell_type": "code",
   "execution_count": 16,
   "id": "c2cd0175",
   "metadata": {
    "execution": {
     "iopub.execute_input": "2024-11-05T19:00:24.763937Z",
     "iopub.status.busy": "2024-11-05T19:00:24.763486Z",
     "iopub.status.idle": "2024-11-05T19:00:24.926837Z",
     "shell.execute_reply": "2024-11-05T19:00:24.925487Z"
    },
    "papermill": {
     "duration": 0.193112,
     "end_time": "2024-11-05T19:00:24.929958",
     "exception": false,
     "start_time": "2024-11-05T19:00:24.736846",
     "status": "completed"
    },
    "tags": []
   },
   "outputs": [],
   "source": [
    "from sklearn import preprocessing\n",
    "label_encoder = preprocessing.LabelEncoder()"
   ]
  },
  {
   "cell_type": "code",
   "execution_count": 17,
   "id": "83022459",
   "metadata": {
    "execution": {
     "iopub.execute_input": "2024-11-05T19:00:24.982967Z",
     "iopub.status.busy": "2024-11-05T19:00:24.982510Z",
     "iopub.status.idle": "2024-11-05T19:00:24.990326Z",
     "shell.execute_reply": "2024-11-05T19:00:24.989084Z"
    },
    "papermill": {
     "duration": 0.036991,
     "end_time": "2024-11-05T19:00:24.992751",
     "exception": false,
     "start_time": "2024-11-05T19:00:24.955760",
     "status": "completed"
    },
    "tags": []
   },
   "outputs": [],
   "source": [
    "df['Race']= label_encoder.fit_transform(df['Race'])"
   ]
  },
  {
   "cell_type": "code",
   "execution_count": 18,
   "id": "0faeb108",
   "metadata": {
    "execution": {
     "iopub.execute_input": "2024-11-05T19:00:25.046300Z",
     "iopub.status.busy": "2024-11-05T19:00:25.045808Z",
     "iopub.status.idle": "2024-11-05T19:00:25.053795Z",
     "shell.execute_reply": "2024-11-05T19:00:25.052598Z"
    },
    "papermill": {
     "duration": 0.037926,
     "end_time": "2024-11-05T19:00:25.056468",
     "exception": false,
     "start_time": "2024-11-05T19:00:25.018542",
     "status": "completed"
    },
    "tags": []
   },
   "outputs": [],
   "source": [
    "df['Marital Status']= label_encoder.fit_transform(df['Marital Status'])"
   ]
  },
  {
   "cell_type": "code",
   "execution_count": 19,
   "id": "f89f6728",
   "metadata": {
    "execution": {
     "iopub.execute_input": "2024-11-05T19:00:25.109166Z",
     "iopub.status.busy": "2024-11-05T19:00:25.108686Z",
     "iopub.status.idle": "2024-11-05T19:00:25.116451Z",
     "shell.execute_reply": "2024-11-05T19:00:25.115259Z"
    },
    "papermill": {
     "duration": 0.036628,
     "end_time": "2024-11-05T19:00:25.118931",
     "exception": false,
     "start_time": "2024-11-05T19:00:25.082303",
     "status": "completed"
    },
    "tags": []
   },
   "outputs": [],
   "source": [
    "df['T Stage ']= label_encoder.fit_transform(df['T Stage '])"
   ]
  },
  {
   "cell_type": "markdown",
   "id": "ed3e6434",
   "metadata": {},
   "source": [
    "Utilized Label Encoding on categorical variables (N Stage, 6th Stage, differentiate, and Grade) to transform text labels into numerical values for model execution."
   ]
  },
  {
   "cell_type": "code",
   "execution_count": 20,
   "id": "3842f7ae",
   "metadata": {
    "execution": {
     "iopub.execute_input": "2024-11-05T19:00:25.172754Z",
     "iopub.status.busy": "2024-11-05T19:00:25.172327Z",
     "iopub.status.idle": "2024-11-05T19:00:25.185664Z",
     "shell.execute_reply": "2024-11-05T19:00:25.184556Z"
    },
    "papermill": {
     "duration": 0.043804,
     "end_time": "2024-11-05T19:00:25.188193",
     "exception": false,
     "start_time": "2024-11-05T19:00:25.144389",
     "status": "completed"
    },
    "tags": []
   },
   "outputs": [],
   "source": [
    "df['N Stage']= label_encoder.fit_transform(df['N Stage'])\n",
    "df['6th Stage']= label_encoder.fit_transform(df['6th Stage'])\n",
    "df['differentiate']= label_encoder.fit_transform(df['differentiate'])\n",
    "df['Grade']= label_encoder.fit_transform(df['Grade'])"
   ]
  },
  {
   "cell_type": "markdown",
   "id": "b31f2dc5",
   "metadata": {},
   "source": [
    "I utilized df.head() to showcase the initial five entries of the dataset in order to examine its layout, data types, and starting values."
   ]
  },
  {
   "cell_type": "code",
   "execution_count": 21,
   "id": "5642ad46",
   "metadata": {
    "execution": {
     "iopub.execute_input": "2024-11-05T19:00:25.240924Z",
     "iopub.status.busy": "2024-11-05T19:00:25.240453Z",
     "iopub.status.idle": "2024-11-05T19:00:25.259185Z",
     "shell.execute_reply": "2024-11-05T19:00:25.258110Z"
    },
    "papermill": {
     "duration": 0.047944,
     "end_time": "2024-11-05T19:00:25.261617",
     "exception": false,
     "start_time": "2024-11-05T19:00:25.213673",
     "status": "completed"
    },
    "tags": []
   },
   "outputs": [
    {
     "data": {
      "text/html": [
       "<div>\n",
       "<style scoped>\n",
       "    .dataframe tbody tr th:only-of-type {\n",
       "        vertical-align: middle;\n",
       "    }\n",
       "\n",
       "    .dataframe tbody tr th {\n",
       "        vertical-align: top;\n",
       "    }\n",
       "\n",
       "    .dataframe thead th {\n",
       "        text-align: right;\n",
       "    }\n",
       "</style>\n",
       "<table border=\"1\" class=\"dataframe\">\n",
       "  <thead>\n",
       "    <tr style=\"text-align: right;\">\n",
       "      <th></th>\n",
       "      <th>Age</th>\n",
       "      <th>Race</th>\n",
       "      <th>Marital Status</th>\n",
       "      <th>T Stage</th>\n",
       "      <th>N Stage</th>\n",
       "      <th>6th Stage</th>\n",
       "      <th>differentiate</th>\n",
       "      <th>Grade</th>\n",
       "      <th>A Stage</th>\n",
       "      <th>Tumor Size</th>\n",
       "      <th>Estrogen Status</th>\n",
       "      <th>Progesterone Status</th>\n",
       "      <th>Regional Node Examined</th>\n",
       "      <th>Reginol Node Positive</th>\n",
       "      <th>Survival Months</th>\n",
       "      <th>Status</th>\n",
       "    </tr>\n",
       "  </thead>\n",
       "  <tbody>\n",
       "    <tr>\n",
       "      <th>0</th>\n",
       "      <td>68</td>\n",
       "      <td>2</td>\n",
       "      <td>1</td>\n",
       "      <td>0</td>\n",
       "      <td>0</td>\n",
       "      <td>0</td>\n",
       "      <td>1</td>\n",
       "      <td>3</td>\n",
       "      <td>Regional</td>\n",
       "      <td>4</td>\n",
       "      <td>Positive</td>\n",
       "      <td>Positive</td>\n",
       "      <td>24</td>\n",
       "      <td>1</td>\n",
       "      <td>60</td>\n",
       "      <td>Alive</td>\n",
       "    </tr>\n",
       "    <tr>\n",
       "      <th>1</th>\n",
       "      <td>50</td>\n",
       "      <td>2</td>\n",
       "      <td>1</td>\n",
       "      <td>1</td>\n",
       "      <td>1</td>\n",
       "      <td>2</td>\n",
       "      <td>0</td>\n",
       "      <td>2</td>\n",
       "      <td>Regional</td>\n",
       "      <td>35</td>\n",
       "      <td>Positive</td>\n",
       "      <td>Positive</td>\n",
       "      <td>14</td>\n",
       "      <td>5</td>\n",
       "      <td>62</td>\n",
       "      <td>Alive</td>\n",
       "    </tr>\n",
       "    <tr>\n",
       "      <th>2</th>\n",
       "      <td>58</td>\n",
       "      <td>2</td>\n",
       "      <td>0</td>\n",
       "      <td>2</td>\n",
       "      <td>2</td>\n",
       "      <td>4</td>\n",
       "      <td>0</td>\n",
       "      <td>2</td>\n",
       "      <td>Regional</td>\n",
       "      <td>63</td>\n",
       "      <td>Positive</td>\n",
       "      <td>Positive</td>\n",
       "      <td>14</td>\n",
       "      <td>7</td>\n",
       "      <td>75</td>\n",
       "      <td>Alive</td>\n",
       "    </tr>\n",
       "    <tr>\n",
       "      <th>3</th>\n",
       "      <td>58</td>\n",
       "      <td>2</td>\n",
       "      <td>1</td>\n",
       "      <td>0</td>\n",
       "      <td>0</td>\n",
       "      <td>0</td>\n",
       "      <td>1</td>\n",
       "      <td>3</td>\n",
       "      <td>Regional</td>\n",
       "      <td>18</td>\n",
       "      <td>Positive</td>\n",
       "      <td>Positive</td>\n",
       "      <td>2</td>\n",
       "      <td>1</td>\n",
       "      <td>84</td>\n",
       "      <td>Alive</td>\n",
       "    </tr>\n",
       "    <tr>\n",
       "      <th>4</th>\n",
       "      <td>47</td>\n",
       "      <td>2</td>\n",
       "      <td>1</td>\n",
       "      <td>1</td>\n",
       "      <td>0</td>\n",
       "      <td>1</td>\n",
       "      <td>1</td>\n",
       "      <td>3</td>\n",
       "      <td>Regional</td>\n",
       "      <td>41</td>\n",
       "      <td>Positive</td>\n",
       "      <td>Positive</td>\n",
       "      <td>3</td>\n",
       "      <td>1</td>\n",
       "      <td>50</td>\n",
       "      <td>Alive</td>\n",
       "    </tr>\n",
       "  </tbody>\n",
       "</table>\n",
       "</div>"
      ],
      "text/plain": [
       "   Age  Race  Marital Status  T Stage   N Stage  6th Stage  differentiate  \\\n",
       "0   68     2               1         0        0          0              1   \n",
       "1   50     2               1         1        1          2              0   \n",
       "2   58     2               0         2        2          4              0   \n",
       "3   58     2               1         0        0          0              1   \n",
       "4   47     2               1         1        0          1              1   \n",
       "\n",
       "   Grade   A Stage  Tumor Size Estrogen Status Progesterone Status  \\\n",
       "0      3  Regional           4        Positive            Positive   \n",
       "1      2  Regional          35        Positive            Positive   \n",
       "2      2  Regional          63        Positive            Positive   \n",
       "3      3  Regional          18        Positive            Positive   \n",
       "4      3  Regional          41        Positive            Positive   \n",
       "\n",
       "   Regional Node Examined  Reginol Node Positive  Survival Months Status  \n",
       "0                      24                      1               60  Alive  \n",
       "1                      14                      5               62  Alive  \n",
       "2                      14                      7               75  Alive  \n",
       "3                       2                      1               84  Alive  \n",
       "4                       3                      1               50  Alive  "
      ]
     },
     "execution_count": 21,
     "metadata": {},
     "output_type": "execute_result"
    }
   ],
   "source": [
    "df.head()"
   ]
  },
  {
   "cell_type": "markdown",
   "id": "9ca72457",
   "metadata": {},
   "source": []
  },
  {
   "cell_type": "markdown",
   "id": "61f84cb7",
   "metadata": {},
   "source": [
    "Utilized Label Encoding on the A Stage, Estrogen Status, and Progesterone Status columns to transform categorical data into numerical labels suitable for machine learning analysis."
   ]
  },
  {
   "cell_type": "code",
   "execution_count": 22,
   "id": "498f5342",
   "metadata": {
    "execution": {
     "iopub.execute_input": "2024-11-05T19:00:25.315132Z",
     "iopub.status.busy": "2024-11-05T19:00:25.314689Z",
     "iopub.status.idle": "2024-11-05T19:00:25.325989Z",
     "shell.execute_reply": "2024-11-05T19:00:25.324809Z"
    },
    "papermill": {
     "duration": 0.041361,
     "end_time": "2024-11-05T19:00:25.328517",
     "exception": false,
     "start_time": "2024-11-05T19:00:25.287156",
     "status": "completed"
    },
    "tags": []
   },
   "outputs": [],
   "source": [
    "df['A Stage']= label_encoder.fit_transform(df['A Stage'])\n",
    "\n",
    "df['Estrogen Status']= label_encoder.fit_transform(df['Estrogen Status'])\n",
    "df['Progesterone Status']= label_encoder.fit_transform(df['Progesterone Status'])\n",
    "\n"
   ]
  },
  {
   "cell_type": "markdown",
   "id": "ccfa284f",
   "metadata": {},
   "source": [
    "I utilized df.info() to obtain a summary of the dataset, which included information on column names, data types, missing values, and memory consumption."
   ]
  },
  {
   "cell_type": "code",
   "execution_count": 23,
   "id": "c70bcb84",
   "metadata": {
    "execution": {
     "iopub.execute_input": "2024-11-05T19:00:25.381588Z",
     "iopub.status.busy": "2024-11-05T19:00:25.380657Z",
     "iopub.status.idle": "2024-11-05T19:00:25.395327Z",
     "shell.execute_reply": "2024-11-05T19:00:25.394002Z"
    },
    "papermill": {
     "duration": 0.044473,
     "end_time": "2024-11-05T19:00:25.398336",
     "exception": false,
     "start_time": "2024-11-05T19:00:25.353863",
     "status": "completed"
    },
    "tags": []
   },
   "outputs": [
    {
     "name": "stdout",
     "output_type": "stream",
     "text": [
      "<class 'pandas.core.frame.DataFrame'>\n",
      "Index: 4023 entries, 0 to 4023\n",
      "Data columns (total 16 columns):\n",
      " #   Column                  Non-Null Count  Dtype \n",
      "---  ------                  --------------  ----- \n",
      " 0   Age                     4023 non-null   int64 \n",
      " 1   Race                    4023 non-null   int64 \n",
      " 2   Marital Status          4023 non-null   int64 \n",
      " 3   T Stage                 4023 non-null   int64 \n",
      " 4   N Stage                 4023 non-null   int64 \n",
      " 5   6th Stage               4023 non-null   int64 \n",
      " 6   differentiate           4023 non-null   int64 \n",
      " 7   Grade                   4023 non-null   int64 \n",
      " 8   A Stage                 4023 non-null   int64 \n",
      " 9   Tumor Size              4023 non-null   int64 \n",
      " 10  Estrogen Status         4023 non-null   int64 \n",
      " 11  Progesterone Status     4023 non-null   int64 \n",
      " 12  Regional Node Examined  4023 non-null   int64 \n",
      " 13  Reginol Node Positive   4023 non-null   int64 \n",
      " 14  Survival Months         4023 non-null   int64 \n",
      " 15  Status                  4023 non-null   object\n",
      "dtypes: int64(15), object(1)\n",
      "memory usage: 534.3+ KB\n"
     ]
    }
   ],
   "source": [
    "df.info()"
   ]
  },
  {
   "cell_type": "markdown",
   "id": "39b9a299",
   "metadata": {},
   "source": [
    "Divided the target variable ('Status') into y, while the feature variables were assigned to X, which includes all columns apart from 'Status'."
   ]
  },
  {
   "cell_type": "code",
   "execution_count": 24,
   "id": "1ce7fbd6",
   "metadata": {
    "execution": {
     "iopub.execute_input": "2024-11-05T19:00:25.451544Z",
     "iopub.status.busy": "2024-11-05T19:00:25.451058Z",
     "iopub.status.idle": "2024-11-05T19:00:25.458914Z",
     "shell.execute_reply": "2024-11-05T19:00:25.457691Z"
    },
    "papermill": {
     "duration": 0.03766,
     "end_time": "2024-11-05T19:00:25.461574",
     "exception": false,
     "start_time": "2024-11-05T19:00:25.423914",
     "status": "completed"
    },
    "tags": []
   },
   "outputs": [],
   "source": [
    "y = df['Status']\n",
    "X = df.drop('Status' , axis = 1)"
   ]
  },
  {
   "cell_type": "code",
   "execution_count": 25,
   "id": "223a1b11",
   "metadata": {},
   "outputs": [],
   "source": [
    "features = ['Age', 'Race', 'Marital Status', 'T Stage ', 'N Stage', '6th Stage',\n",
    "       'differentiate', 'Grade', 'A Stage', 'Tumor Size', 'Estrogen Status',\n",
    "       'Progesterone Status', 'Regional Node Examined',\n",
    "       'Reginol Node Positive', 'Survival Months']\n"
   ]
  },
  {
   "cell_type": "markdown",
   "id": "0f6743ec",
   "metadata": {},
   "source": [
    "Scaling:"
   ]
  },
  {
   "cell_type": "markdown",
   "id": "31b18f6d",
   "metadata": {},
   "source": [
    "Implemen"
   ]
  },
  {
   "cell_type": "code",
   "execution_count": 26,
   "id": "9827e396",
   "metadata": {
    "execution": {
     "iopub.execute_input": "2024-11-05T19:00:25.515208Z",
     "iopub.status.busy": "2024-11-05T19:00:25.514282Z",
     "iopub.status.idle": "2024-11-05T19:00:25.526204Z",
     "shell.execute_reply": "2024-11-05T19:00:25.525165Z"
    },
    "papermill": {
     "duration": 0.041283,
     "end_time": "2024-11-05T19:00:25.528856",
     "exception": false,
     "start_time": "2024-11-05T19:00:25.487573",
     "status": "completed"
    },
    "tags": []
   },
   "outputs": [],
   "source": [
    "from sklearn.compose import ColumnTransformer\n",
    "from sklearn.preprocessing import StandardScaler\n",
    "\n",
    "# Create the column transformer with StandardScaler\n",
    "preprocessor = ColumnTransformer(\n",
    "    transformers=[\n",
    "        ('num', StandardScaler(), list(range(X.shape[1])))  # Apply to all numerical columns\n",
    "    ])\n",
    "\n",
    "# Fit and transform the data\n",
    "X = preprocessor.fit_transform(X)\n",
    "\n"
   ]
  },
  {
   "cell_type": "markdown",
   "id": "df4e65fe",
   "metadata": {},
   "source": [
    "Divide the dataset into training (80%) and testing (20%) groups utilizing train_test_split, making sure the model is trained on one set of data while being tested on a different one."
   ]
  },
  {
   "cell_type": "code",
   "execution_count": 27,
   "id": "6461b3c9",
   "metadata": {
    "execution": {
     "iopub.execute_input": "2024-11-05T19:00:25.583488Z",
     "iopub.status.busy": "2024-11-05T19:00:25.582551Z",
     "iopub.status.idle": "2024-11-05T19:00:25.690616Z",
     "shell.execute_reply": "2024-11-05T19:00:25.689385Z"
    },
    "papermill": {
     "duration": 0.138846,
     "end_time": "2024-11-05T19:00:25.693494",
     "exception": false,
     "start_time": "2024-11-05T19:00:25.554648",
     "status": "completed"
    },
    "tags": []
   },
   "outputs": [],
   "source": [
    "from sklearn.model_selection import train_test_split\n",
    "X_train, X_test, y_train, y_test = train_test_split(X, y, test_size = 0.20)"
   ]
  },
  {
   "cell_type": "markdown",
   "id": "15082fd9",
   "metadata": {},
   "source": [
    "Checking the Shape of Data"
   ]
  },
  {
   "cell_type": "code",
   "execution_count": 28,
   "id": "9773652e",
   "metadata": {
    "execution": {
     "iopub.execute_input": "2024-11-05T19:00:25.747197Z",
     "iopub.status.busy": "2024-11-05T19:00:25.746043Z",
     "iopub.status.idle": "2024-11-05T19:00:25.754016Z",
     "shell.execute_reply": "2024-11-05T19:00:25.752895Z"
    },
    "papermill": {
     "duration": 0.037533,
     "end_time": "2024-11-05T19:00:25.756529",
     "exception": false,
     "start_time": "2024-11-05T19:00:25.718996",
     "status": "completed"
    },
    "tags": []
   },
   "outputs": [
    {
     "data": {
      "text/plain": [
       "((3218, 15), (805, 15), (3218,), (805,))"
      ]
     },
     "execution_count": 28,
     "metadata": {},
     "output_type": "execute_result"
    }
   ],
   "source": [
    "X_train.shape, X_test.shape, y_train.shape, y_test.shape"
   ]
  },
  {
   "cell_type": "markdown",
   "id": "d61945fd",
   "metadata": {},
   "source": [
    "Utilized Label Encoding on the 'Status' column to transform categorical labels (such as 'Benign' and 'Malignant') into numerical values to ensure compatibility with machine learning algorithms."
   ]
  },
  {
   "cell_type": "code",
   "execution_count": 29,
   "id": "75a6961e",
   "metadata": {
    "execution": {
     "iopub.execute_input": "2024-11-05T19:00:25.810399Z",
     "iopub.status.busy": "2024-11-05T19:00:25.809924Z",
     "iopub.status.idle": "2024-11-05T19:00:25.817480Z",
     "shell.execute_reply": "2024-11-05T19:00:25.816263Z"
    },
    "papermill": {
     "duration": 0.037824,
     "end_time": "2024-11-05T19:00:25.820254",
     "exception": false,
     "start_time": "2024-11-05T19:00:25.782430",
     "status": "completed"
    },
    "tags": []
   },
   "outputs": [
    {
     "data": {
      "text/plain": [
       "Status\n",
       "0    3407\n",
       "1     616\n",
       "Name: count, dtype: int64"
      ]
     },
     "execution_count": 29,
     "metadata": {},
     "output_type": "execute_result"
    }
   ],
   "source": [
    "df['Status']= label_encoder.fit_transform(df['Status'])\n",
    "df['Status'].value_counts()"
   ]
  },
  {
   "cell_type": "markdown",
   "id": "deaef228",
   "metadata": {},
   "source": [
    "Utilized Logistic Regression for training the model and employed various metrics (classification report, confusion matrix, accuracy score, and mean absolute error) to assess the model's performance."
   ]
  },
  {
   "cell_type": "code",
   "execution_count": 30,
   "id": "bb9c2326",
   "metadata": {
    "execution": {
     "iopub.execute_input": "2024-11-05T19:00:25.938458Z",
     "iopub.status.busy": "2024-11-05T19:00:25.937957Z",
     "iopub.status.idle": "2024-11-05T19:00:26.181870Z",
     "shell.execute_reply": "2024-11-05T19:00:26.180854Z"
    },
    "papermill": {
     "duration": 0.274322,
     "end_time": "2024-11-05T19:00:26.185006",
     "exception": false,
     "start_time": "2024-11-05T19:00:25.910684",
     "status": "completed"
    },
    "tags": []
   },
   "outputs": [],
   "source": [
    "from sklearn.linear_model import LogisticRegression\n",
    "from sklearn.metrics import classification_report, confusion_matrix , mean_absolute_error\n",
    "from sklearn.metrics import accuracy_score"
   ]
  },
  {
   "cell_type": "markdown",
   "id": "d5b95261",
   "metadata": {},
   "source": [
    "Machine Learning Model Training:"
   ]
  },
  {
   "cell_type": "markdown",
   "id": "79f87ad5",
   "metadata": {},
   "source": [
    "Logistic Regression:\n",
    "\n",
    "Developed a logistic regression model (LRModel) on the dataset by utilizing the fit() method and assessed its effectiveness through metrics such as accuracy, confusion matrix, and classification report. The model was employed to determine whether a tumor is malignant or benign."
   ]
  },
  {
   "cell_type": "code",
   "execution_count": 31,
   "id": "b4b35e9b",
   "metadata": {
    "execution": {
     "iopub.execute_input": "2024-11-05T19:00:26.239245Z",
     "iopub.status.busy": "2024-11-05T19:00:26.238770Z",
     "iopub.status.idle": "2024-11-05T19:00:26.244241Z",
     "shell.execute_reply": "2024-11-05T19:00:26.242933Z"
    },
    "papermill": {
     "duration": 0.035319,
     "end_time": "2024-11-05T19:00:26.246776",
     "exception": false,
     "start_time": "2024-11-05T19:00:26.211457",
     "status": "completed"
    },
    "tags": []
   },
   "outputs": [],
   "source": [
    "LRModel = LogisticRegression( max_iter=100)"
   ]
  },
  {
   "cell_type": "markdown",
   "id": "5d4c3f64",
   "metadata": {},
   "source": [
    "Developed the Logistic Regression model (LRModel) using the training data (X_train and y_train) to understand the connections between the features and the target variable."
   ]
  },
  {
   "cell_type": "code",
   "execution_count": 32,
   "id": "2df33d1a",
   "metadata": {
    "execution": {
     "iopub.execute_input": "2024-11-05T19:00:26.301389Z",
     "iopub.status.busy": "2024-11-05T19:00:26.300813Z",
     "iopub.status.idle": "2024-11-05T19:00:26.371841Z",
     "shell.execute_reply": "2024-11-05T19:00:26.370300Z"
    },
    "papermill": {
     "duration": 0.102958,
     "end_time": "2024-11-05T19:00:26.376070",
     "exception": false,
     "start_time": "2024-11-05T19:00:26.273112",
     "status": "completed"
    },
    "tags": []
   },
   "outputs": [
    {
     "data": {
      "text/html": [
       "<style>#sk-container-id-1 {\n",
       "  /* Definition of color scheme common for light and dark mode */\n",
       "  --sklearn-color-text: #000;\n",
       "  --sklearn-color-text-muted: #666;\n",
       "  --sklearn-color-line: gray;\n",
       "  /* Definition of color scheme for unfitted estimators */\n",
       "  --sklearn-color-unfitted-level-0: #fff5e6;\n",
       "  --sklearn-color-unfitted-level-1: #f6e4d2;\n",
       "  --sklearn-color-unfitted-level-2: #ffe0b3;\n",
       "  --sklearn-color-unfitted-level-3: chocolate;\n",
       "  /* Definition of color scheme for fitted estimators */\n",
       "  --sklearn-color-fitted-level-0: #f0f8ff;\n",
       "  --sklearn-color-fitted-level-1: #d4ebff;\n",
       "  --sklearn-color-fitted-level-2: #b3dbfd;\n",
       "  --sklearn-color-fitted-level-3: cornflowerblue;\n",
       "\n",
       "  /* Specific color for light theme */\n",
       "  --sklearn-color-text-on-default-background: var(--sg-text-color, var(--theme-code-foreground, var(--jp-content-font-color1, black)));\n",
       "  --sklearn-color-background: var(--sg-background-color, var(--theme-background, var(--jp-layout-color0, white)));\n",
       "  --sklearn-color-border-box: var(--sg-text-color, var(--theme-code-foreground, var(--jp-content-font-color1, black)));\n",
       "  --sklearn-color-icon: #696969;\n",
       "\n",
       "  @media (prefers-color-scheme: dark) {\n",
       "    /* Redefinition of color scheme for dark theme */\n",
       "    --sklearn-color-text-on-default-background: var(--sg-text-color, var(--theme-code-foreground, var(--jp-content-font-color1, white)));\n",
       "    --sklearn-color-background: var(--sg-background-color, var(--theme-background, var(--jp-layout-color0, #111)));\n",
       "    --sklearn-color-border-box: var(--sg-text-color, var(--theme-code-foreground, var(--jp-content-font-color1, white)));\n",
       "    --sklearn-color-icon: #878787;\n",
       "  }\n",
       "}\n",
       "\n",
       "#sk-container-id-1 {\n",
       "  color: var(--sklearn-color-text);\n",
       "}\n",
       "\n",
       "#sk-container-id-1 pre {\n",
       "  padding: 0;\n",
       "}\n",
       "\n",
       "#sk-container-id-1 input.sk-hidden--visually {\n",
       "  border: 0;\n",
       "  clip: rect(1px 1px 1px 1px);\n",
       "  clip: rect(1px, 1px, 1px, 1px);\n",
       "  height: 1px;\n",
       "  margin: -1px;\n",
       "  overflow: hidden;\n",
       "  padding: 0;\n",
       "  position: absolute;\n",
       "  width: 1px;\n",
       "}\n",
       "\n",
       "#sk-container-id-1 div.sk-dashed-wrapped {\n",
       "  border: 1px dashed var(--sklearn-color-line);\n",
       "  margin: 0 0.4em 0.5em 0.4em;\n",
       "  box-sizing: border-box;\n",
       "  padding-bottom: 0.4em;\n",
       "  background-color: var(--sklearn-color-background);\n",
       "}\n",
       "\n",
       "#sk-container-id-1 div.sk-container {\n",
       "  /* jupyter's `normalize.less` sets `[hidden] { display: none; }`\n",
       "     but bootstrap.min.css set `[hidden] { display: none !important; }`\n",
       "     so we also need the `!important` here to be able to override the\n",
       "     default hidden behavior on the sphinx rendered scikit-learn.org.\n",
       "     See: https://github.com/scikit-learn/scikit-learn/issues/21755 */\n",
       "  display: inline-block !important;\n",
       "  position: relative;\n",
       "}\n",
       "\n",
       "#sk-container-id-1 div.sk-text-repr-fallback {\n",
       "  display: none;\n",
       "}\n",
       "\n",
       "div.sk-parallel-item,\n",
       "div.sk-serial,\n",
       "div.sk-item {\n",
       "  /* draw centered vertical line to link estimators */\n",
       "  background-image: linear-gradient(var(--sklearn-color-text-on-default-background), var(--sklearn-color-text-on-default-background));\n",
       "  background-size: 2px 100%;\n",
       "  background-repeat: no-repeat;\n",
       "  background-position: center center;\n",
       "}\n",
       "\n",
       "/* Parallel-specific style estimator block */\n",
       "\n",
       "#sk-container-id-1 div.sk-parallel-item::after {\n",
       "  content: \"\";\n",
       "  width: 100%;\n",
       "  border-bottom: 2px solid var(--sklearn-color-text-on-default-background);\n",
       "  flex-grow: 1;\n",
       "}\n",
       "\n",
       "#sk-container-id-1 div.sk-parallel {\n",
       "  display: flex;\n",
       "  align-items: stretch;\n",
       "  justify-content: center;\n",
       "  background-color: var(--sklearn-color-background);\n",
       "  position: relative;\n",
       "}\n",
       "\n",
       "#sk-container-id-1 div.sk-parallel-item {\n",
       "  display: flex;\n",
       "  flex-direction: column;\n",
       "}\n",
       "\n",
       "#sk-container-id-1 div.sk-parallel-item:first-child::after {\n",
       "  align-self: flex-end;\n",
       "  width: 50%;\n",
       "}\n",
       "\n",
       "#sk-container-id-1 div.sk-parallel-item:last-child::after {\n",
       "  align-self: flex-start;\n",
       "  width: 50%;\n",
       "}\n",
       "\n",
       "#sk-container-id-1 div.sk-parallel-item:only-child::after {\n",
       "  width: 0;\n",
       "}\n",
       "\n",
       "/* Serial-specific style estimator block */\n",
       "\n",
       "#sk-container-id-1 div.sk-serial {\n",
       "  display: flex;\n",
       "  flex-direction: column;\n",
       "  align-items: center;\n",
       "  background-color: var(--sklearn-color-background);\n",
       "  padding-right: 1em;\n",
       "  padding-left: 1em;\n",
       "}\n",
       "\n",
       "\n",
       "/* Toggleable style: style used for estimator/Pipeline/ColumnTransformer box that is\n",
       "clickable and can be expanded/collapsed.\n",
       "- Pipeline and ColumnTransformer use this feature and define the default style\n",
       "- Estimators will overwrite some part of the style using the `sk-estimator` class\n",
       "*/\n",
       "\n",
       "/* Pipeline and ColumnTransformer style (default) */\n",
       "\n",
       "#sk-container-id-1 div.sk-toggleable {\n",
       "  /* Default theme specific background. It is overwritten whether we have a\n",
       "  specific estimator or a Pipeline/ColumnTransformer */\n",
       "  background-color: var(--sklearn-color-background);\n",
       "}\n",
       "\n",
       "/* Toggleable label */\n",
       "#sk-container-id-1 label.sk-toggleable__label {\n",
       "  cursor: pointer;\n",
       "  display: flex;\n",
       "  width: 100%;\n",
       "  margin-bottom: 0;\n",
       "  padding: 0.5em;\n",
       "  box-sizing: border-box;\n",
       "  text-align: center;\n",
       "  align-items: start;\n",
       "  justify-content: space-between;\n",
       "  gap: 0.5em;\n",
       "}\n",
       "\n",
       "#sk-container-id-1 label.sk-toggleable__label .caption {\n",
       "  font-size: 0.6rem;\n",
       "  font-weight: lighter;\n",
       "  color: var(--sklearn-color-text-muted);\n",
       "}\n",
       "\n",
       "#sk-container-id-1 label.sk-toggleable__label-arrow:before {\n",
       "  /* Arrow on the left of the label */\n",
       "  content: \"▸\";\n",
       "  float: left;\n",
       "  margin-right: 0.25em;\n",
       "  color: var(--sklearn-color-icon);\n",
       "}\n",
       "\n",
       "#sk-container-id-1 label.sk-toggleable__label-arrow:hover:before {\n",
       "  color: var(--sklearn-color-text);\n",
       "}\n",
       "\n",
       "/* Toggleable content - dropdown */\n",
       "\n",
       "#sk-container-id-1 div.sk-toggleable__content {\n",
       "  max-height: 0;\n",
       "  max-width: 0;\n",
       "  overflow: hidden;\n",
       "  text-align: left;\n",
       "  /* unfitted */\n",
       "  background-color: var(--sklearn-color-unfitted-level-0);\n",
       "}\n",
       "\n",
       "#sk-container-id-1 div.sk-toggleable__content.fitted {\n",
       "  /* fitted */\n",
       "  background-color: var(--sklearn-color-fitted-level-0);\n",
       "}\n",
       "\n",
       "#sk-container-id-1 div.sk-toggleable__content pre {\n",
       "  margin: 0.2em;\n",
       "  border-radius: 0.25em;\n",
       "  color: var(--sklearn-color-text);\n",
       "  /* unfitted */\n",
       "  background-color: var(--sklearn-color-unfitted-level-0);\n",
       "}\n",
       "\n",
       "#sk-container-id-1 div.sk-toggleable__content.fitted pre {\n",
       "  /* unfitted */\n",
       "  background-color: var(--sklearn-color-fitted-level-0);\n",
       "}\n",
       "\n",
       "#sk-container-id-1 input.sk-toggleable__control:checked~div.sk-toggleable__content {\n",
       "  /* Expand drop-down */\n",
       "  max-height: 200px;\n",
       "  max-width: 100%;\n",
       "  overflow: auto;\n",
       "}\n",
       "\n",
       "#sk-container-id-1 input.sk-toggleable__control:checked~label.sk-toggleable__label-arrow:before {\n",
       "  content: \"▾\";\n",
       "}\n",
       "\n",
       "/* Pipeline/ColumnTransformer-specific style */\n",
       "\n",
       "#sk-container-id-1 div.sk-label input.sk-toggleable__control:checked~label.sk-toggleable__label {\n",
       "  color: var(--sklearn-color-text);\n",
       "  background-color: var(--sklearn-color-unfitted-level-2);\n",
       "}\n",
       "\n",
       "#sk-container-id-1 div.sk-label.fitted input.sk-toggleable__control:checked~label.sk-toggleable__label {\n",
       "  background-color: var(--sklearn-color-fitted-level-2);\n",
       "}\n",
       "\n",
       "/* Estimator-specific style */\n",
       "\n",
       "/* Colorize estimator box */\n",
       "#sk-container-id-1 div.sk-estimator input.sk-toggleable__control:checked~label.sk-toggleable__label {\n",
       "  /* unfitted */\n",
       "  background-color: var(--sklearn-color-unfitted-level-2);\n",
       "}\n",
       "\n",
       "#sk-container-id-1 div.sk-estimator.fitted input.sk-toggleable__control:checked~label.sk-toggleable__label {\n",
       "  /* fitted */\n",
       "  background-color: var(--sklearn-color-fitted-level-2);\n",
       "}\n",
       "\n",
       "#sk-container-id-1 div.sk-label label.sk-toggleable__label,\n",
       "#sk-container-id-1 div.sk-label label {\n",
       "  /* The background is the default theme color */\n",
       "  color: var(--sklearn-color-text-on-default-background);\n",
       "}\n",
       "\n",
       "/* On hover, darken the color of the background */\n",
       "#sk-container-id-1 div.sk-label:hover label.sk-toggleable__label {\n",
       "  color: var(--sklearn-color-text);\n",
       "  background-color: var(--sklearn-color-unfitted-level-2);\n",
       "}\n",
       "\n",
       "/* Label box, darken color on hover, fitted */\n",
       "#sk-container-id-1 div.sk-label.fitted:hover label.sk-toggleable__label.fitted {\n",
       "  color: var(--sklearn-color-text);\n",
       "  background-color: var(--sklearn-color-fitted-level-2);\n",
       "}\n",
       "\n",
       "/* Estimator label */\n",
       "\n",
       "#sk-container-id-1 div.sk-label label {\n",
       "  font-family: monospace;\n",
       "  font-weight: bold;\n",
       "  display: inline-block;\n",
       "  line-height: 1.2em;\n",
       "}\n",
       "\n",
       "#sk-container-id-1 div.sk-label-container {\n",
       "  text-align: center;\n",
       "}\n",
       "\n",
       "/* Estimator-specific */\n",
       "#sk-container-id-1 div.sk-estimator {\n",
       "  font-family: monospace;\n",
       "  border: 1px dotted var(--sklearn-color-border-box);\n",
       "  border-radius: 0.25em;\n",
       "  box-sizing: border-box;\n",
       "  margin-bottom: 0.5em;\n",
       "  /* unfitted */\n",
       "  background-color: var(--sklearn-color-unfitted-level-0);\n",
       "}\n",
       "\n",
       "#sk-container-id-1 div.sk-estimator.fitted {\n",
       "  /* fitted */\n",
       "  background-color: var(--sklearn-color-fitted-level-0);\n",
       "}\n",
       "\n",
       "/* on hover */\n",
       "#sk-container-id-1 div.sk-estimator:hover {\n",
       "  /* unfitted */\n",
       "  background-color: var(--sklearn-color-unfitted-level-2);\n",
       "}\n",
       "\n",
       "#sk-container-id-1 div.sk-estimator.fitted:hover {\n",
       "  /* fitted */\n",
       "  background-color: var(--sklearn-color-fitted-level-2);\n",
       "}\n",
       "\n",
       "/* Specification for estimator info (e.g. \"i\" and \"?\") */\n",
       "\n",
       "/* Common style for \"i\" and \"?\" */\n",
       "\n",
       ".sk-estimator-doc-link,\n",
       "a:link.sk-estimator-doc-link,\n",
       "a:visited.sk-estimator-doc-link {\n",
       "  float: right;\n",
       "  font-size: smaller;\n",
       "  line-height: 1em;\n",
       "  font-family: monospace;\n",
       "  background-color: var(--sklearn-color-background);\n",
       "  border-radius: 1em;\n",
       "  height: 1em;\n",
       "  width: 1em;\n",
       "  text-decoration: none !important;\n",
       "  margin-left: 0.5em;\n",
       "  text-align: center;\n",
       "  /* unfitted */\n",
       "  border: var(--sklearn-color-unfitted-level-1) 1pt solid;\n",
       "  color: var(--sklearn-color-unfitted-level-1);\n",
       "}\n",
       "\n",
       ".sk-estimator-doc-link.fitted,\n",
       "a:link.sk-estimator-doc-link.fitted,\n",
       "a:visited.sk-estimator-doc-link.fitted {\n",
       "  /* fitted */\n",
       "  border: var(--sklearn-color-fitted-level-1) 1pt solid;\n",
       "  color: var(--sklearn-color-fitted-level-1);\n",
       "}\n",
       "\n",
       "/* On hover */\n",
       "div.sk-estimator:hover .sk-estimator-doc-link:hover,\n",
       ".sk-estimator-doc-link:hover,\n",
       "div.sk-label-container:hover .sk-estimator-doc-link:hover,\n",
       ".sk-estimator-doc-link:hover {\n",
       "  /* unfitted */\n",
       "  background-color: var(--sklearn-color-unfitted-level-3);\n",
       "  color: var(--sklearn-color-background);\n",
       "  text-decoration: none;\n",
       "}\n",
       "\n",
       "div.sk-estimator.fitted:hover .sk-estimator-doc-link.fitted:hover,\n",
       ".sk-estimator-doc-link.fitted:hover,\n",
       "div.sk-label-container:hover .sk-estimator-doc-link.fitted:hover,\n",
       ".sk-estimator-doc-link.fitted:hover {\n",
       "  /* fitted */\n",
       "  background-color: var(--sklearn-color-fitted-level-3);\n",
       "  color: var(--sklearn-color-background);\n",
       "  text-decoration: none;\n",
       "}\n",
       "\n",
       "/* Span, style for the box shown on hovering the info icon */\n",
       ".sk-estimator-doc-link span {\n",
       "  display: none;\n",
       "  z-index: 9999;\n",
       "  position: relative;\n",
       "  font-weight: normal;\n",
       "  right: .2ex;\n",
       "  padding: .5ex;\n",
       "  margin: .5ex;\n",
       "  width: min-content;\n",
       "  min-width: 20ex;\n",
       "  max-width: 50ex;\n",
       "  color: var(--sklearn-color-text);\n",
       "  box-shadow: 2pt 2pt 4pt #999;\n",
       "  /* unfitted */\n",
       "  background: var(--sklearn-color-unfitted-level-0);\n",
       "  border: .5pt solid var(--sklearn-color-unfitted-level-3);\n",
       "}\n",
       "\n",
       ".sk-estimator-doc-link.fitted span {\n",
       "  /* fitted */\n",
       "  background: var(--sklearn-color-fitted-level-0);\n",
       "  border: var(--sklearn-color-fitted-level-3);\n",
       "}\n",
       "\n",
       ".sk-estimator-doc-link:hover span {\n",
       "  display: block;\n",
       "}\n",
       "\n",
       "/* \"?\"-specific style due to the `<a>` HTML tag */\n",
       "\n",
       "#sk-container-id-1 a.estimator_doc_link {\n",
       "  float: right;\n",
       "  font-size: 1rem;\n",
       "  line-height: 1em;\n",
       "  font-family: monospace;\n",
       "  background-color: var(--sklearn-color-background);\n",
       "  border-radius: 1rem;\n",
       "  height: 1rem;\n",
       "  width: 1rem;\n",
       "  text-decoration: none;\n",
       "  /* unfitted */\n",
       "  color: var(--sklearn-color-unfitted-level-1);\n",
       "  border: var(--sklearn-color-unfitted-level-1) 1pt solid;\n",
       "}\n",
       "\n",
       "#sk-container-id-1 a.estimator_doc_link.fitted {\n",
       "  /* fitted */\n",
       "  border: var(--sklearn-color-fitted-level-1) 1pt solid;\n",
       "  color: var(--sklearn-color-fitted-level-1);\n",
       "}\n",
       "\n",
       "/* On hover */\n",
       "#sk-container-id-1 a.estimator_doc_link:hover {\n",
       "  /* unfitted */\n",
       "  background-color: var(--sklearn-color-unfitted-level-3);\n",
       "  color: var(--sklearn-color-background);\n",
       "  text-decoration: none;\n",
       "}\n",
       "\n",
       "#sk-container-id-1 a.estimator_doc_link.fitted:hover {\n",
       "  /* fitted */\n",
       "  background-color: var(--sklearn-color-fitted-level-3);\n",
       "}\n",
       "</style><div id=\"sk-container-id-1\" class=\"sk-top-container\"><div class=\"sk-text-repr-fallback\"><pre>LogisticRegression()</pre><b>In a Jupyter environment, please rerun this cell to show the HTML representation or trust the notebook. <br />On GitHub, the HTML representation is unable to render, please try loading this page with nbviewer.org.</b></div><div class=\"sk-container\" hidden><div class=\"sk-item\"><div class=\"sk-estimator fitted sk-toggleable\"><input class=\"sk-toggleable__control sk-hidden--visually\" id=\"sk-estimator-id-1\" type=\"checkbox\" checked><label for=\"sk-estimator-id-1\" class=\"sk-toggleable__label fitted sk-toggleable__label-arrow\"><div><div>LogisticRegression</div></div><div><a class=\"sk-estimator-doc-link fitted\" rel=\"noreferrer\" target=\"_blank\" href=\"https://scikit-learn.org/1.6/modules/generated/sklearn.linear_model.LogisticRegression.html\">?<span>Documentation for LogisticRegression</span></a><span class=\"sk-estimator-doc-link fitted\">i<span>Fitted</span></span></div></label><div class=\"sk-toggleable__content fitted\"><pre>LogisticRegression()</pre></div> </div></div></div></div>"
      ],
      "text/plain": [
       "LogisticRegression()"
      ]
     },
     "execution_count": 32,
     "metadata": {},
     "output_type": "execute_result"
    }
   ],
   "source": [
    "LRModel.fit(X_train , y_train)"
   ]
  },
  {
   "cell_type": "code",
   "execution_count": 33,
   "id": "9608598c",
   "metadata": {
    "execution": {
     "iopub.execute_input": "2024-11-05T19:00:26.486758Z",
     "iopub.status.busy": "2024-11-05T19:00:26.486333Z",
     "iopub.status.idle": "2024-11-05T19:00:26.521425Z",
     "shell.execute_reply": "2024-11-05T19:00:26.519895Z"
    },
    "papermill": {
     "duration": 0.093641,
     "end_time": "2024-11-05T19:00:26.526077",
     "exception": false,
     "start_time": "2024-11-05T19:00:26.432436",
     "status": "completed"
    },
    "tags": []
   },
   "outputs": [
    {
     "data": {
      "text/plain": [
       "0.8980733374766936"
      ]
     },
     "execution_count": 33,
     "metadata": {},
     "output_type": "execute_result"
    }
   ],
   "source": [
    "LRModel.score(X_train , y_train)"
   ]
  },
  {
   "cell_type": "code",
   "execution_count": 34,
   "id": "5076723a",
   "metadata": {
    "execution": {
     "iopub.execute_input": "2024-11-05T19:00:26.626265Z",
     "iopub.status.busy": "2024-11-05T19:00:26.625785Z",
     "iopub.status.idle": "2024-11-05T19:00:26.634163Z",
     "shell.execute_reply": "2024-11-05T19:00:26.632691Z"
    },
    "papermill": {
     "duration": 0.054832,
     "end_time": "2024-11-05T19:00:26.638099",
     "exception": false,
     "start_time": "2024-11-05T19:00:26.583267",
     "status": "completed"
    },
    "tags": []
   },
   "outputs": [],
   "source": [
    "y_pred = LRModel.predict(X_test)"
   ]
  },
  {
   "cell_type": "code",
   "execution_count": 35,
   "id": "d01cb23b",
   "metadata": {
    "execution": {
     "iopub.execute_input": "2024-11-05T19:00:26.750639Z",
     "iopub.status.busy": "2024-11-05T19:00:26.749861Z",
     "iopub.status.idle": "2024-11-05T19:00:26.766874Z",
     "shell.execute_reply": "2024-11-05T19:00:26.765320Z"
    },
    "papermill": {
     "duration": 0.07767,
     "end_time": "2024-11-05T19:00:26.770934",
     "exception": false,
     "start_time": "2024-11-05T19:00:26.693264",
     "status": "completed"
    },
    "tags": []
   },
   "outputs": [
    {
     "data": {
      "text/plain": [
       "0.8906832298136645"
      ]
     },
     "execution_count": 35,
     "metadata": {},
     "output_type": "execute_result"
    }
   ],
   "source": [
    "LRModel.score(X_test , y_test)"
   ]
  },
  {
   "cell_type": "code",
   "execution_count": 36,
   "id": "ba0d6496",
   "metadata": {
    "execution": {
     "iopub.execute_input": "2024-11-05T19:00:26.882243Z",
     "iopub.status.busy": "2024-11-05T19:00:26.881738Z",
     "iopub.status.idle": "2024-11-05T19:00:26.893742Z",
     "shell.execute_reply": "2024-11-05T19:00:26.892516Z"
    },
    "papermill": {
     "duration": 0.066238,
     "end_time": "2024-11-05T19:00:26.896227",
     "exception": false,
     "start_time": "2024-11-05T19:00:26.829989",
     "status": "completed"
    },
    "tags": []
   },
   "outputs": [
    {
     "data": {
      "text/plain": [
       "0.8906832298136645"
      ]
     },
     "execution_count": 36,
     "metadata": {},
     "output_type": "execute_result"
    }
   ],
   "source": [
    "accuracy_score(y_test , y_pred)"
   ]
  },
  {
   "cell_type": "markdown",
   "id": "05bbc311",
   "metadata": {},
   "source": [
    "Calculated and presented the confusion matrix to evaluate the model's classification effectiveness by contrasting actual values with predicted ones.\""
   ]
  },
  {
   "cell_type": "code",
   "execution_count": 37,
   "id": "56f9f121",
   "metadata": {
    "execution": {
     "iopub.execute_input": "2024-11-05T19:00:26.952927Z",
     "iopub.status.busy": "2024-11-05T19:00:26.952460Z",
     "iopub.status.idle": "2024-11-05T19:00:26.967512Z",
     "shell.execute_reply": "2024-11-05T19:00:26.966005Z"
    },
    "papermill": {
     "duration": 0.046759,
     "end_time": "2024-11-05T19:00:26.970028",
     "exception": false,
     "start_time": "2024-11-05T19:00:26.923269",
     "status": "completed"
    },
    "tags": []
   },
   "outputs": [
    {
     "name": "stdout",
     "output_type": "stream",
     "text": [
      "[[655  11]\n",
      " [ 77  62]]\n"
     ]
    }
   ],
   "source": [
    "confusionmatrix = confusion_matrix(y_test , y_pred)\n",
    "print(confusionmatrix)"
   ]
  },
  {
   "cell_type": "markdown",
   "id": "7abbca42",
   "metadata": {},
   "source": [
    "Created a classification report to assess the model's effectiveness by utilizing precision, recall, F1-score, and support for every class."
   ]
  },
  {
   "cell_type": "code",
   "execution_count": 38,
   "id": "e52ded4d",
   "metadata": {
    "execution": {
     "iopub.execute_input": "2024-11-05T19:00:27.025967Z",
     "iopub.status.busy": "2024-11-05T19:00:27.025528Z",
     "iopub.status.idle": "2024-11-05T19:00:27.082836Z",
     "shell.execute_reply": "2024-11-05T19:00:27.081514Z"
    },
    "papermill": {
     "duration": 0.088607,
     "end_time": "2024-11-05T19:00:27.085758",
     "exception": false,
     "start_time": "2024-11-05T19:00:26.997151",
     "status": "completed"
    },
    "tags": []
   },
   "outputs": [],
   "source": [
    "classificationreport = classification_report(y_test , y_pred)"
   ]
  },
  {
   "cell_type": "markdown",
   "id": "9f4b967b",
   "metadata": {},
   "source": [
    "Generated the classification report to assess the model's accuracy, precision, recall, and F1-score for every class."
   ]
  },
  {
   "cell_type": "code",
   "execution_count": 39,
   "id": "01ad6ee0",
   "metadata": {
    "execution": {
     "iopub.execute_input": "2024-11-05T19:00:27.142361Z",
     "iopub.status.busy": "2024-11-05T19:00:27.141858Z",
     "iopub.status.idle": "2024-11-05T19:00:27.148202Z",
     "shell.execute_reply": "2024-11-05T19:00:27.146914Z"
    },
    "papermill": {
     "duration": 0.037898,
     "end_time": "2024-11-05T19:00:27.150929",
     "exception": false,
     "start_time": "2024-11-05T19:00:27.113031",
     "status": "completed"
    },
    "tags": []
   },
   "outputs": [
    {
     "name": "stdout",
     "output_type": "stream",
     "text": [
      "              precision    recall  f1-score   support\n",
      "\n",
      "       Alive       0.89      0.98      0.94       666\n",
      "        Dead       0.85      0.45      0.58       139\n",
      "\n",
      "    accuracy                           0.89       805\n",
      "   macro avg       0.87      0.71      0.76       805\n",
      "weighted avg       0.89      0.89      0.88       805\n",
      "\n"
     ]
    }
   ],
   "source": [
    "print(classificationreport)"
   ]
  },
  {
   "cell_type": "markdown",
   "id": "2079e85b",
   "metadata": {},
   "source": [
    "imported SVC from sklearn.svm to utilize the Support Vector Classifier for classification jobs."
   ]
  },
  {
   "cell_type": "markdown",
   "id": "e5e28e2a",
   "metadata": {},
   "source": [
    "Developed a Support Vector Classifier (SCModel) utilizing a polynomial kernel, assessed the model's performance using accuracy and classification metrics, and contrasted it with the logistic regression model."
   ]
  },
  {
   "cell_type": "code",
   "execution_count": 40,
   "id": "cf92d9f5",
   "metadata": {
    "execution": {
     "iopub.execute_input": "2024-11-05T19:00:27.210059Z",
     "iopub.status.busy": "2024-11-05T19:00:27.209145Z",
     "iopub.status.idle": "2024-11-05T19:00:27.214798Z",
     "shell.execute_reply": "2024-11-05T19:00:27.213526Z"
    },
    "papermill": {
     "duration": 0.037064,
     "end_time": "2024-11-05T19:00:27.217300",
     "exception": false,
     "start_time": "2024-11-05T19:00:27.180236",
     "status": "completed"
    },
    "tags": []
   },
   "outputs": [],
   "source": [
    "from sklearn.svm import SVC"
   ]
  },
  {
   "cell_type": "code",
   "execution_count": 41,
   "id": "e2ebefb4",
   "metadata": {
    "execution": {
     "iopub.execute_input": "2024-11-05T19:00:27.274436Z",
     "iopub.status.busy": "2024-11-05T19:00:27.273911Z",
     "iopub.status.idle": "2024-11-05T19:00:27.279537Z",
     "shell.execute_reply": "2024-11-05T19:00:27.278315Z"
    },
    "papermill": {
     "duration": 0.036624,
     "end_time": "2024-11-05T19:00:27.281950",
     "exception": false,
     "start_time": "2024-11-05T19:00:27.245326",
     "status": "completed"
    },
    "tags": []
   },
   "outputs": [],
   "source": [
    "SCModel = SVC(kernel='poly')"
   ]
  },
  {
   "cell_type": "markdown",
   "id": "1a1ffd67",
   "metadata": {},
   "source": [
    "Fitted the Support Vector Classifier (SVC) model on the training dataset to identify the optimal decision boundary for classification."
   ]
  },
  {
   "cell_type": "code",
   "execution_count": 42,
   "id": "ef296278",
   "metadata": {
    "execution": {
     "iopub.execute_input": "2024-11-05T19:00:27.340134Z",
     "iopub.status.busy": "2024-11-05T19:00:27.339100Z",
     "iopub.status.idle": "2024-11-05T19:00:27.550220Z",
     "shell.execute_reply": "2024-11-05T19:00:27.548930Z"
    },
    "papermill": {
     "duration": 0.243413,
     "end_time": "2024-11-05T19:00:27.552943",
     "exception": false,
     "start_time": "2024-11-05T19:00:27.309530",
     "status": "completed"
    },
    "tags": []
   },
   "outputs": [
    {
     "data": {
      "text/html": [
       "<style>#sk-container-id-2 {\n",
       "  /* Definition of color scheme common for light and dark mode */\n",
       "  --sklearn-color-text: #000;\n",
       "  --sklearn-color-text-muted: #666;\n",
       "  --sklearn-color-line: gray;\n",
       "  /* Definition of color scheme for unfitted estimators */\n",
       "  --sklearn-color-unfitted-level-0: #fff5e6;\n",
       "  --sklearn-color-unfitted-level-1: #f6e4d2;\n",
       "  --sklearn-color-unfitted-level-2: #ffe0b3;\n",
       "  --sklearn-color-unfitted-level-3: chocolate;\n",
       "  /* Definition of color scheme for fitted estimators */\n",
       "  --sklearn-color-fitted-level-0: #f0f8ff;\n",
       "  --sklearn-color-fitted-level-1: #d4ebff;\n",
       "  --sklearn-color-fitted-level-2: #b3dbfd;\n",
       "  --sklearn-color-fitted-level-3: cornflowerblue;\n",
       "\n",
       "  /* Specific color for light theme */\n",
       "  --sklearn-color-text-on-default-background: var(--sg-text-color, var(--theme-code-foreground, var(--jp-content-font-color1, black)));\n",
       "  --sklearn-color-background: var(--sg-background-color, var(--theme-background, var(--jp-layout-color0, white)));\n",
       "  --sklearn-color-border-box: var(--sg-text-color, var(--theme-code-foreground, var(--jp-content-font-color1, black)));\n",
       "  --sklearn-color-icon: #696969;\n",
       "\n",
       "  @media (prefers-color-scheme: dark) {\n",
       "    /* Redefinition of color scheme for dark theme */\n",
       "    --sklearn-color-text-on-default-background: var(--sg-text-color, var(--theme-code-foreground, var(--jp-content-font-color1, white)));\n",
       "    --sklearn-color-background: var(--sg-background-color, var(--theme-background, var(--jp-layout-color0, #111)));\n",
       "    --sklearn-color-border-box: var(--sg-text-color, var(--theme-code-foreground, var(--jp-content-font-color1, white)));\n",
       "    --sklearn-color-icon: #878787;\n",
       "  }\n",
       "}\n",
       "\n",
       "#sk-container-id-2 {\n",
       "  color: var(--sklearn-color-text);\n",
       "}\n",
       "\n",
       "#sk-container-id-2 pre {\n",
       "  padding: 0;\n",
       "}\n",
       "\n",
       "#sk-container-id-2 input.sk-hidden--visually {\n",
       "  border: 0;\n",
       "  clip: rect(1px 1px 1px 1px);\n",
       "  clip: rect(1px, 1px, 1px, 1px);\n",
       "  height: 1px;\n",
       "  margin: -1px;\n",
       "  overflow: hidden;\n",
       "  padding: 0;\n",
       "  position: absolute;\n",
       "  width: 1px;\n",
       "}\n",
       "\n",
       "#sk-container-id-2 div.sk-dashed-wrapped {\n",
       "  border: 1px dashed var(--sklearn-color-line);\n",
       "  margin: 0 0.4em 0.5em 0.4em;\n",
       "  box-sizing: border-box;\n",
       "  padding-bottom: 0.4em;\n",
       "  background-color: var(--sklearn-color-background);\n",
       "}\n",
       "\n",
       "#sk-container-id-2 div.sk-container {\n",
       "  /* jupyter's `normalize.less` sets `[hidden] { display: none; }`\n",
       "     but bootstrap.min.css set `[hidden] { display: none !important; }`\n",
       "     so we also need the `!important` here to be able to override the\n",
       "     default hidden behavior on the sphinx rendered scikit-learn.org.\n",
       "     See: https://github.com/scikit-learn/scikit-learn/issues/21755 */\n",
       "  display: inline-block !important;\n",
       "  position: relative;\n",
       "}\n",
       "\n",
       "#sk-container-id-2 div.sk-text-repr-fallback {\n",
       "  display: none;\n",
       "}\n",
       "\n",
       "div.sk-parallel-item,\n",
       "div.sk-serial,\n",
       "div.sk-item {\n",
       "  /* draw centered vertical line to link estimators */\n",
       "  background-image: linear-gradient(var(--sklearn-color-text-on-default-background), var(--sklearn-color-text-on-default-background));\n",
       "  background-size: 2px 100%;\n",
       "  background-repeat: no-repeat;\n",
       "  background-position: center center;\n",
       "}\n",
       "\n",
       "/* Parallel-specific style estimator block */\n",
       "\n",
       "#sk-container-id-2 div.sk-parallel-item::after {\n",
       "  content: \"\";\n",
       "  width: 100%;\n",
       "  border-bottom: 2px solid var(--sklearn-color-text-on-default-background);\n",
       "  flex-grow: 1;\n",
       "}\n",
       "\n",
       "#sk-container-id-2 div.sk-parallel {\n",
       "  display: flex;\n",
       "  align-items: stretch;\n",
       "  justify-content: center;\n",
       "  background-color: var(--sklearn-color-background);\n",
       "  position: relative;\n",
       "}\n",
       "\n",
       "#sk-container-id-2 div.sk-parallel-item {\n",
       "  display: flex;\n",
       "  flex-direction: column;\n",
       "}\n",
       "\n",
       "#sk-container-id-2 div.sk-parallel-item:first-child::after {\n",
       "  align-self: flex-end;\n",
       "  width: 50%;\n",
       "}\n",
       "\n",
       "#sk-container-id-2 div.sk-parallel-item:last-child::after {\n",
       "  align-self: flex-start;\n",
       "  width: 50%;\n",
       "}\n",
       "\n",
       "#sk-container-id-2 div.sk-parallel-item:only-child::after {\n",
       "  width: 0;\n",
       "}\n",
       "\n",
       "/* Serial-specific style estimator block */\n",
       "\n",
       "#sk-container-id-2 div.sk-serial {\n",
       "  display: flex;\n",
       "  flex-direction: column;\n",
       "  align-items: center;\n",
       "  background-color: var(--sklearn-color-background);\n",
       "  padding-right: 1em;\n",
       "  padding-left: 1em;\n",
       "}\n",
       "\n",
       "\n",
       "/* Toggleable style: style used for estimator/Pipeline/ColumnTransformer box that is\n",
       "clickable and can be expanded/collapsed.\n",
       "- Pipeline and ColumnTransformer use this feature and define the default style\n",
       "- Estimators will overwrite some part of the style using the `sk-estimator` class\n",
       "*/\n",
       "\n",
       "/* Pipeline and ColumnTransformer style (default) */\n",
       "\n",
       "#sk-container-id-2 div.sk-toggleable {\n",
       "  /* Default theme specific background. It is overwritten whether we have a\n",
       "  specific estimator or a Pipeline/ColumnTransformer */\n",
       "  background-color: var(--sklearn-color-background);\n",
       "}\n",
       "\n",
       "/* Toggleable label */\n",
       "#sk-container-id-2 label.sk-toggleable__label {\n",
       "  cursor: pointer;\n",
       "  display: flex;\n",
       "  width: 100%;\n",
       "  margin-bottom: 0;\n",
       "  padding: 0.5em;\n",
       "  box-sizing: border-box;\n",
       "  text-align: center;\n",
       "  align-items: start;\n",
       "  justify-content: space-between;\n",
       "  gap: 0.5em;\n",
       "}\n",
       "\n",
       "#sk-container-id-2 label.sk-toggleable__label .caption {\n",
       "  font-size: 0.6rem;\n",
       "  font-weight: lighter;\n",
       "  color: var(--sklearn-color-text-muted);\n",
       "}\n",
       "\n",
       "#sk-container-id-2 label.sk-toggleable__label-arrow:before {\n",
       "  /* Arrow on the left of the label */\n",
       "  content: \"▸\";\n",
       "  float: left;\n",
       "  margin-right: 0.25em;\n",
       "  color: var(--sklearn-color-icon);\n",
       "}\n",
       "\n",
       "#sk-container-id-2 label.sk-toggleable__label-arrow:hover:before {\n",
       "  color: var(--sklearn-color-text);\n",
       "}\n",
       "\n",
       "/* Toggleable content - dropdown */\n",
       "\n",
       "#sk-container-id-2 div.sk-toggleable__content {\n",
       "  max-height: 0;\n",
       "  max-width: 0;\n",
       "  overflow: hidden;\n",
       "  text-align: left;\n",
       "  /* unfitted */\n",
       "  background-color: var(--sklearn-color-unfitted-level-0);\n",
       "}\n",
       "\n",
       "#sk-container-id-2 div.sk-toggleable__content.fitted {\n",
       "  /* fitted */\n",
       "  background-color: var(--sklearn-color-fitted-level-0);\n",
       "}\n",
       "\n",
       "#sk-container-id-2 div.sk-toggleable__content pre {\n",
       "  margin: 0.2em;\n",
       "  border-radius: 0.25em;\n",
       "  color: var(--sklearn-color-text);\n",
       "  /* unfitted */\n",
       "  background-color: var(--sklearn-color-unfitted-level-0);\n",
       "}\n",
       "\n",
       "#sk-container-id-2 div.sk-toggleable__content.fitted pre {\n",
       "  /* unfitted */\n",
       "  background-color: var(--sklearn-color-fitted-level-0);\n",
       "}\n",
       "\n",
       "#sk-container-id-2 input.sk-toggleable__control:checked~div.sk-toggleable__content {\n",
       "  /* Expand drop-down */\n",
       "  max-height: 200px;\n",
       "  max-width: 100%;\n",
       "  overflow: auto;\n",
       "}\n",
       "\n",
       "#sk-container-id-2 input.sk-toggleable__control:checked~label.sk-toggleable__label-arrow:before {\n",
       "  content: \"▾\";\n",
       "}\n",
       "\n",
       "/* Pipeline/ColumnTransformer-specific style */\n",
       "\n",
       "#sk-container-id-2 div.sk-label input.sk-toggleable__control:checked~label.sk-toggleable__label {\n",
       "  color: var(--sklearn-color-text);\n",
       "  background-color: var(--sklearn-color-unfitted-level-2);\n",
       "}\n",
       "\n",
       "#sk-container-id-2 div.sk-label.fitted input.sk-toggleable__control:checked~label.sk-toggleable__label {\n",
       "  background-color: var(--sklearn-color-fitted-level-2);\n",
       "}\n",
       "\n",
       "/* Estimator-specific style */\n",
       "\n",
       "/* Colorize estimator box */\n",
       "#sk-container-id-2 div.sk-estimator input.sk-toggleable__control:checked~label.sk-toggleable__label {\n",
       "  /* unfitted */\n",
       "  background-color: var(--sklearn-color-unfitted-level-2);\n",
       "}\n",
       "\n",
       "#sk-container-id-2 div.sk-estimator.fitted input.sk-toggleable__control:checked~label.sk-toggleable__label {\n",
       "  /* fitted */\n",
       "  background-color: var(--sklearn-color-fitted-level-2);\n",
       "}\n",
       "\n",
       "#sk-container-id-2 div.sk-label label.sk-toggleable__label,\n",
       "#sk-container-id-2 div.sk-label label {\n",
       "  /* The background is the default theme color */\n",
       "  color: var(--sklearn-color-text-on-default-background);\n",
       "}\n",
       "\n",
       "/* On hover, darken the color of the background */\n",
       "#sk-container-id-2 div.sk-label:hover label.sk-toggleable__label {\n",
       "  color: var(--sklearn-color-text);\n",
       "  background-color: var(--sklearn-color-unfitted-level-2);\n",
       "}\n",
       "\n",
       "/* Label box, darken color on hover, fitted */\n",
       "#sk-container-id-2 div.sk-label.fitted:hover label.sk-toggleable__label.fitted {\n",
       "  color: var(--sklearn-color-text);\n",
       "  background-color: var(--sklearn-color-fitted-level-2);\n",
       "}\n",
       "\n",
       "/* Estimator label */\n",
       "\n",
       "#sk-container-id-2 div.sk-label label {\n",
       "  font-family: monospace;\n",
       "  font-weight: bold;\n",
       "  display: inline-block;\n",
       "  line-height: 1.2em;\n",
       "}\n",
       "\n",
       "#sk-container-id-2 div.sk-label-container {\n",
       "  text-align: center;\n",
       "}\n",
       "\n",
       "/* Estimator-specific */\n",
       "#sk-container-id-2 div.sk-estimator {\n",
       "  font-family: monospace;\n",
       "  border: 1px dotted var(--sklearn-color-border-box);\n",
       "  border-radius: 0.25em;\n",
       "  box-sizing: border-box;\n",
       "  margin-bottom: 0.5em;\n",
       "  /* unfitted */\n",
       "  background-color: var(--sklearn-color-unfitted-level-0);\n",
       "}\n",
       "\n",
       "#sk-container-id-2 div.sk-estimator.fitted {\n",
       "  /* fitted */\n",
       "  background-color: var(--sklearn-color-fitted-level-0);\n",
       "}\n",
       "\n",
       "/* on hover */\n",
       "#sk-container-id-2 div.sk-estimator:hover {\n",
       "  /* unfitted */\n",
       "  background-color: var(--sklearn-color-unfitted-level-2);\n",
       "}\n",
       "\n",
       "#sk-container-id-2 div.sk-estimator.fitted:hover {\n",
       "  /* fitted */\n",
       "  background-color: var(--sklearn-color-fitted-level-2);\n",
       "}\n",
       "\n",
       "/* Specification for estimator info (e.g. \"i\" and \"?\") */\n",
       "\n",
       "/* Common style for \"i\" and \"?\" */\n",
       "\n",
       ".sk-estimator-doc-link,\n",
       "a:link.sk-estimator-doc-link,\n",
       "a:visited.sk-estimator-doc-link {\n",
       "  float: right;\n",
       "  font-size: smaller;\n",
       "  line-height: 1em;\n",
       "  font-family: monospace;\n",
       "  background-color: var(--sklearn-color-background);\n",
       "  border-radius: 1em;\n",
       "  height: 1em;\n",
       "  width: 1em;\n",
       "  text-decoration: none !important;\n",
       "  margin-left: 0.5em;\n",
       "  text-align: center;\n",
       "  /* unfitted */\n",
       "  border: var(--sklearn-color-unfitted-level-1) 1pt solid;\n",
       "  color: var(--sklearn-color-unfitted-level-1);\n",
       "}\n",
       "\n",
       ".sk-estimator-doc-link.fitted,\n",
       "a:link.sk-estimator-doc-link.fitted,\n",
       "a:visited.sk-estimator-doc-link.fitted {\n",
       "  /* fitted */\n",
       "  border: var(--sklearn-color-fitted-level-1) 1pt solid;\n",
       "  color: var(--sklearn-color-fitted-level-1);\n",
       "}\n",
       "\n",
       "/* On hover */\n",
       "div.sk-estimator:hover .sk-estimator-doc-link:hover,\n",
       ".sk-estimator-doc-link:hover,\n",
       "div.sk-label-container:hover .sk-estimator-doc-link:hover,\n",
       ".sk-estimator-doc-link:hover {\n",
       "  /* unfitted */\n",
       "  background-color: var(--sklearn-color-unfitted-level-3);\n",
       "  color: var(--sklearn-color-background);\n",
       "  text-decoration: none;\n",
       "}\n",
       "\n",
       "div.sk-estimator.fitted:hover .sk-estimator-doc-link.fitted:hover,\n",
       ".sk-estimator-doc-link.fitted:hover,\n",
       "div.sk-label-container:hover .sk-estimator-doc-link.fitted:hover,\n",
       ".sk-estimator-doc-link.fitted:hover {\n",
       "  /* fitted */\n",
       "  background-color: var(--sklearn-color-fitted-level-3);\n",
       "  color: var(--sklearn-color-background);\n",
       "  text-decoration: none;\n",
       "}\n",
       "\n",
       "/* Span, style for the box shown on hovering the info icon */\n",
       ".sk-estimator-doc-link span {\n",
       "  display: none;\n",
       "  z-index: 9999;\n",
       "  position: relative;\n",
       "  font-weight: normal;\n",
       "  right: .2ex;\n",
       "  padding: .5ex;\n",
       "  margin: .5ex;\n",
       "  width: min-content;\n",
       "  min-width: 20ex;\n",
       "  max-width: 50ex;\n",
       "  color: var(--sklearn-color-text);\n",
       "  box-shadow: 2pt 2pt 4pt #999;\n",
       "  /* unfitted */\n",
       "  background: var(--sklearn-color-unfitted-level-0);\n",
       "  border: .5pt solid var(--sklearn-color-unfitted-level-3);\n",
       "}\n",
       "\n",
       ".sk-estimator-doc-link.fitted span {\n",
       "  /* fitted */\n",
       "  background: var(--sklearn-color-fitted-level-0);\n",
       "  border: var(--sklearn-color-fitted-level-3);\n",
       "}\n",
       "\n",
       ".sk-estimator-doc-link:hover span {\n",
       "  display: block;\n",
       "}\n",
       "\n",
       "/* \"?\"-specific style due to the `<a>` HTML tag */\n",
       "\n",
       "#sk-container-id-2 a.estimator_doc_link {\n",
       "  float: right;\n",
       "  font-size: 1rem;\n",
       "  line-height: 1em;\n",
       "  font-family: monospace;\n",
       "  background-color: var(--sklearn-color-background);\n",
       "  border-radius: 1rem;\n",
       "  height: 1rem;\n",
       "  width: 1rem;\n",
       "  text-decoration: none;\n",
       "  /* unfitted */\n",
       "  color: var(--sklearn-color-unfitted-level-1);\n",
       "  border: var(--sklearn-color-unfitted-level-1) 1pt solid;\n",
       "}\n",
       "\n",
       "#sk-container-id-2 a.estimator_doc_link.fitted {\n",
       "  /* fitted */\n",
       "  border: var(--sklearn-color-fitted-level-1) 1pt solid;\n",
       "  color: var(--sklearn-color-fitted-level-1);\n",
       "}\n",
       "\n",
       "/* On hover */\n",
       "#sk-container-id-2 a.estimator_doc_link:hover {\n",
       "  /* unfitted */\n",
       "  background-color: var(--sklearn-color-unfitted-level-3);\n",
       "  color: var(--sklearn-color-background);\n",
       "  text-decoration: none;\n",
       "}\n",
       "\n",
       "#sk-container-id-2 a.estimator_doc_link.fitted:hover {\n",
       "  /* fitted */\n",
       "  background-color: var(--sklearn-color-fitted-level-3);\n",
       "}\n",
       "</style><div id=\"sk-container-id-2\" class=\"sk-top-container\"><div class=\"sk-text-repr-fallback\"><pre>SVC(kernel=&#x27;poly&#x27;)</pre><b>In a Jupyter environment, please rerun this cell to show the HTML representation or trust the notebook. <br />On GitHub, the HTML representation is unable to render, please try loading this page with nbviewer.org.</b></div><div class=\"sk-container\" hidden><div class=\"sk-item\"><div class=\"sk-estimator fitted sk-toggleable\"><input class=\"sk-toggleable__control sk-hidden--visually\" id=\"sk-estimator-id-2\" type=\"checkbox\" checked><label for=\"sk-estimator-id-2\" class=\"sk-toggleable__label fitted sk-toggleable__label-arrow\"><div><div>SVC</div></div><div><a class=\"sk-estimator-doc-link fitted\" rel=\"noreferrer\" target=\"_blank\" href=\"https://scikit-learn.org/1.6/modules/generated/sklearn.svm.SVC.html\">?<span>Documentation for SVC</span></a><span class=\"sk-estimator-doc-link fitted\">i<span>Fitted</span></span></div></label><div class=\"sk-toggleable__content fitted\"><pre>SVC(kernel=&#x27;poly&#x27;)</pre></div> </div></div></div></div>"
      ],
      "text/plain": [
       "SVC(kernel='poly')"
      ]
     },
     "execution_count": 42,
     "metadata": {},
     "output_type": "execute_result"
    }
   ],
   "source": [
    "SCModel.fit(X_train , y_train)"
   ]
  },
  {
   "cell_type": "code",
   "execution_count": 43,
   "id": "b1e55668",
   "metadata": {
    "execution": {
     "iopub.execute_input": "2024-11-05T19:00:27.610284Z",
     "iopub.status.busy": "2024-11-05T19:00:27.609807Z",
     "iopub.status.idle": "2024-11-05T19:00:27.718892Z",
     "shell.execute_reply": "2024-11-05T19:00:27.717634Z"
    },
    "papermill": {
     "duration": 0.141018,
     "end_time": "2024-11-05T19:00:27.721619",
     "exception": false,
     "start_time": "2024-11-05T19:00:27.580601",
     "status": "completed"
    },
    "tags": []
   },
   "outputs": [
    {
     "data": {
      "text/plain": [
       "0.9101926662523306"
      ]
     },
     "execution_count": 43,
     "metadata": {},
     "output_type": "execute_result"
    }
   ],
   "source": [
    "SCModel.score(X_train , y_train)"
   ]
  },
  {
   "cell_type": "code",
   "execution_count": 44,
   "id": "4c7fb34c",
   "metadata": {
    "execution": {
     "iopub.execute_input": "2024-11-05T19:00:27.779400Z",
     "iopub.status.busy": "2024-11-05T19:00:27.778246Z",
     "iopub.status.idle": "2024-11-05T19:00:27.812082Z",
     "shell.execute_reply": "2024-11-05T19:00:27.810884Z"
    },
    "papermill": {
     "duration": 0.065475,
     "end_time": "2024-11-05T19:00:27.814812",
     "exception": false,
     "start_time": "2024-11-05T19:00:27.749337",
     "status": "completed"
    },
    "tags": []
   },
   "outputs": [
    {
     "data": {
      "text/plain": [
       "0.8770186335403727"
      ]
     },
     "execution_count": 44,
     "metadata": {},
     "output_type": "execute_result"
    }
   ],
   "source": [
    "SCModel.score(X_test, y_test)"
   ]
  },
  {
   "cell_type": "code",
   "execution_count": 45,
   "id": "38c90012",
   "metadata": {
    "execution": {
     "iopub.execute_input": "2024-11-05T19:00:27.871904Z",
     "iopub.status.busy": "2024-11-05T19:00:27.871469Z",
     "iopub.status.idle": "2024-11-05T19:00:27.899943Z",
     "shell.execute_reply": "2024-11-05T19:00:27.898638Z"
    },
    "papermill": {
     "duration": 0.060452,
     "end_time": "2024-11-05T19:00:27.902900",
     "exception": false,
     "start_time": "2024-11-05T19:00:27.842448",
     "status": "completed"
    },
    "tags": []
   },
   "outputs": [],
   "source": [
    "y_pres_SC = SCModel.predict(X_test)"
   ]
  },
  {
   "cell_type": "code",
   "execution_count": 46,
   "id": "7e4ee64e",
   "metadata": {
    "execution": {
     "iopub.execute_input": "2024-11-05T19:00:27.960917Z",
     "iopub.status.busy": "2024-11-05T19:00:27.960460Z",
     "iopub.status.idle": "2024-11-05T19:00:27.972395Z",
     "shell.execute_reply": "2024-11-05T19:00:27.970974Z"
    },
    "papermill": {
     "duration": 0.043967,
     "end_time": "2024-11-05T19:00:27.974916",
     "exception": false,
     "start_time": "2024-11-05T19:00:27.930949",
     "status": "completed"
    },
    "tags": []
   },
   "outputs": [
    {
     "data": {
      "text/plain": [
       "0.8770186335403727"
      ]
     },
     "execution_count": 46,
     "metadata": {},
     "output_type": "execute_result"
    }
   ],
   "source": [
    "accuracy_score(y_test , y_pres_SC)"
   ]
  },
  {
   "cell_type": "code",
   "execution_count": 47,
   "id": "d0f77228",
   "metadata": {
    "execution": {
     "iopub.execute_input": "2024-11-05T19:00:28.033292Z",
     "iopub.status.busy": "2024-11-05T19:00:28.032113Z",
     "iopub.status.idle": "2024-11-05T19:00:28.046039Z",
     "shell.execute_reply": "2024-11-05T19:00:28.045006Z"
    },
    "papermill": {
     "duration": 0.045709,
     "end_time": "2024-11-05T19:00:28.048471",
     "exception": false,
     "start_time": "2024-11-05T19:00:28.002762",
     "status": "completed"
    },
    "tags": []
   },
   "outputs": [
    {
     "data": {
      "text/plain": [
       "array([[658,   8],\n",
       "       [ 91,  48]])"
      ]
     },
     "execution_count": 47,
     "metadata": {},
     "output_type": "execute_result"
    }
   ],
   "source": [
    "confusion_matrix(y_test , y_pres_SC)"
   ]
  },
  {
   "cell_type": "markdown",
   "id": "8bb019aa",
   "metadata": {},
   "source": [
    "Created a classification report to assess the effectiveness of the Support Vector Classifier (SVC) by utilizing precision, recall, F1-score, and support for every class."
   ]
  },
  {
   "cell_type": "code",
   "execution_count": 48,
   "id": "cb22ed04",
   "metadata": {
    "execution": {
     "iopub.execute_input": "2024-11-05T19:00:28.107081Z",
     "iopub.status.busy": "2024-11-05T19:00:28.106637Z",
     "iopub.status.idle": "2024-11-05T19:00:28.164909Z",
     "shell.execute_reply": "2024-11-05T19:00:28.163619Z"
    },
    "papermill": {
     "duration": 0.09137,
     "end_time": "2024-11-05T19:00:28.167859",
     "exception": false,
     "start_time": "2024-11-05T19:00:28.076489",
     "status": "completed"
    },
    "tags": []
   },
   "outputs": [],
   "source": [
    "classificationreport=classification_report(y_test , y_pres_SC)\n"
   ]
  },
  {
   "cell_type": "code",
   "execution_count": 49,
   "id": "5ebfc5c3",
   "metadata": {},
   "outputs": [
    {
     "data": {
      "image/png": "[encoded data removed]",
      "text/plain": [
       "<Figure size 800x600 with 2 Axes>"
      ]
     },
     "metadata": {},
     "output_type": "display_data"
    }
   ],
   "source": [
    "\n",
    "plt.figure(figsize=(8, 6))\n",
    "cm = confusion_matrix(y_test, y_pres_SC)\n",
    "sns.heatmap(cm, annot=True, fmt='d', cmap='Blues')\n",
    "plt.title('SVM Confusion Matrix')\n",
    "plt.ylabel('True Label')\n",
    "plt.xlabel('Predicted Label')\n",
    "plt.show()\n",
    "\n",
    "\n"
   ]
  },
  {
   "cell_type": "markdown",
   "id": "10342fc8",
   "metadata": {},
   "source": [
    "Generated the classification report to evaluate the effectiveness of the Support Vector Classifier (SVC) by assessing accuracy, precision, recall, and F1-score."
   ]
  },
  {
   "cell_type": "code",
   "execution_count": 50,
   "id": "ecf13f1a",
   "metadata": {
    "execution": {
     "iopub.execute_input": "2024-11-05T19:00:28.226980Z",
     "iopub.status.busy": "2024-11-05T19:00:28.226523Z",
     "iopub.status.idle": "2024-11-05T19:00:28.233245Z",
     "shell.execute_reply": "2024-11-05T19:00:28.231699Z"
    },
    "papermill": {
     "duration": 0.039721,
     "end_time": "2024-11-05T19:00:28.236240",
     "exception": false,
     "start_time": "2024-11-05T19:00:28.196519",
     "status": "completed"
    },
    "tags": []
   },
   "outputs": [
    {
     "name": "stdout",
     "output_type": "stream",
     "text": [
      "              precision    recall  f1-score   support\n",
      "\n",
      "       Alive       0.88      0.99      0.93       666\n",
      "        Dead       0.86      0.35      0.49       139\n",
      "\n",
      "    accuracy                           0.88       805\n",
      "   macro avg       0.87      0.67      0.71       805\n",
      "weighted avg       0.87      0.88      0.85       805\n",
      "\n"
     ]
    }
   ],
   "source": [
    "print(classificationreport)"
   ]
  },
  {
   "cell_type": "markdown",
   "id": "56843415",
   "metadata": {},
   "source": [
    "Random Forest Classifier:"
   ]
  },
  {
   "cell_type": "markdown",
   "id": "1962f98f",
   "metadata": {},
   "source": [
    "Constructs a Random Forest Classifier consisting of 100 trees  \n",
    "Fits the model using My training dataset  \n",
    "Generates predictions for the test set  \n",
    "Computes and presents the accuracy score  \n",
    "Presents a comprehensive classification report  \n",
    "Creates a visualization of the confusion matrix  \n",
    "Highlights the top 10 most significant features utilized by the model."
   ]
  },
  {
   "cell_type": "code",
   "execution_count": 51,
   "id": "fd87a436",
   "metadata": {
    "papermill": {
     "duration": 0.028292,
     "end_time": "2024-11-05T19:00:28.293065",
     "exception": false,
     "start_time": "2024-11-05T19:00:28.264773",
     "status": "completed"
    },
    "tags": []
   },
   "outputs": [
    {
     "name": "stdout",
     "output_type": "stream",
     "text": [
      "Random Forest Model Accuracy: 0.9043\n",
      "\n",
      "Classification Report:\n",
      "              precision    recall  f1-score   support\n",
      "\n",
      "       Alive       0.91      0.98      0.94       666\n",
      "        Dead       0.85      0.54      0.66       139\n",
      "\n",
      "    accuracy                           0.90       805\n",
      "   macro avg       0.88      0.76      0.80       805\n",
      "weighted avg       0.90      0.90      0.90       805\n",
      "\n"
     ]
    },
    {
     "data": {
      "image/png": "[encoded data removed]",
      "text/plain": [
       "<Figure size 800x600 with 2 Axes>"
      ]
     },
     "metadata": {},
     "output_type": "display_data"
    },
    {
     "data": {
      "image/png": "[encoded data removed]",
      "text/plain": [
       "<Figure size 1000x600 with 1 Axes>"
      ]
     },
     "metadata": {},
     "output_type": "display_data"
    }
   ],
   "source": [
    "\n",
    "from sklearn.ensemble import RandomForestClassifier\n",
    "from sklearn.metrics import accuracy_score, classification_report, confusion_matrix\n",
    "import seaborn as sns\n",
    "import matplotlib.pyplot as plt\n",
    "\n",
    "\n",
    "rf_model = RandomForestClassifier(n_estimators=100, random_state=42)\n",
    "rf_model.fit(X_train, y_train)\n",
    "\n",
    "\n",
    "rf_predictions = rf_model.predict(X_test)\n",
    "\n",
    "\n",
    "rf_accuracy = accuracy_score(y_test, rf_predictions)\n",
    "print(f\"Random Forest Model Accuracy: {rf_accuracy:.4f}\")\n",
    "\n",
    "\n",
    "print(\"\\nClassification Report:\")\n",
    "print(classification_report(y_test, rf_predictions))\n",
    "\n",
    "\n",
    "plt.figure(figsize=(8, 6))\n",
    "cm = confusion_matrix(y_test, rf_predictions)\n",
    "sns.heatmap(cm, annot=True, fmt='d', cmap='Blues')\n",
    "plt.title('Random Forest Confusion Matrix')\n",
    "plt.ylabel('True Label')\n",
    "plt.xlabel('Predicted Label')\n",
    "plt.show()\n",
    "\n",
    "\n",
    "feature_importance = pd.DataFrame({\n",
    "    'feature': features,\n",
    "    'importance': rf_model.feature_importances_\n",
    "})\n",
    "feature_importance = feature_importance.sort_values('importance', ascending=False)\n",
    "\n",
    "plt.figure(figsize=(10, 6))\n",
    "sns.barplot(x='importance', y='feature', data=feature_importance.head(10))\n",
    "plt.title('Top 10 Most Important Features')\n",
    "plt.show()"
   ]
  },
  {
   "cell_type": "markdown",
   "id": "de7ebbce",
   "metadata": {},
   "source": [
    "K-Nearest Neighbors and Naive Bayes Implementation"
   ]
  },
  {
   "cell_type": "markdown",
   "id": "d15e518d",
   "metadata": {},
   "source": [
    "The KNN model is built and trained with the training dataset (X_train, y_train). \n",
    "Predictions are generated for the test dataset (X_test). \n",
    "The accuracy of the KNN model is assessed using accuracy_score.\n",
    "A classification report is produced to analyze the model’s performance. \n",
    "A confusion matrix is created and displayed as a heatmap to illustrate the true labels compared to the predicted labels.\n",
    "A Gaussian Naive Bayes model is built and trained with the training dataset. \n",
    "Predictions are generated for the test dataset. The model's accuracy is evaluated. \n",
    "A classification report and confusion matrix are produced to examine its performance. \n",
    "The confusion matrix is depicted using a heatmap."
   ]
  },
  {
   "cell_type": "code",
   "execution_count": 52,
   "id": "3eff0813",
   "metadata": {},
   "outputs": [
    {
     "name": "stdout",
     "output_type": "stream",
     "text": [
      "K-Nearest Neighbors Classification:\n",
      "---------------------------------\n",
      "KNN Model Accuracy: 0.8671\n",
      "\n",
      "KNN Classification Report:\n",
      "              precision    recall  f1-score   support\n",
      "\n",
      "       Alive       0.88      0.98      0.92       666\n",
      "        Dead       0.75      0.35      0.47       139\n",
      "\n",
      "    accuracy                           0.87       805\n",
      "   macro avg       0.81      0.66      0.70       805\n",
      "weighted avg       0.86      0.87      0.85       805\n",
      "\n"
     ]
    },
    {
     "data": {
      "image/png": "[encoded data removed]",
      "text/plain": [
       "<Figure size 800x600 with 2 Axes>"
      ]
     },
     "metadata": {},
     "output_type": "display_data"
    },
    {
     "name": "stdout",
     "output_type": "stream",
     "text": [
      "\n",
      "Naive Bayes Classification:\n",
      "-------------------------\n",
      "Naive Bayes Model Accuracy: 0.8075\n",
      "\n",
      "Naive Bayes Classification Report:\n",
      "              precision    recall  f1-score   support\n",
      "\n",
      "       Alive       0.89      0.88      0.88       666\n",
      "        Dead       0.44      0.46      0.45       139\n",
      "\n",
      "    accuracy                           0.81       805\n",
      "   macro avg       0.67      0.67      0.67       805\n",
      "weighted avg       0.81      0.81      0.81       805\n",
      "\n"
     ]
    },
    {
     "data": {
      "image/png": "[encoded data removed]",
      "text/plain": [
       "<Figure size 800x600 with 2 Axes>"
      ]
     },
     "metadata": {},
     "output_type": "display_data"
    }
   ],
   "source": [
    "\n",
    "from sklearn.neighbors import KNeighborsClassifier\n",
    "from sklearn.naive_bayes import GaussianNB\n",
    "from sklearn.metrics import accuracy_score, classification_report, confusion_matrix\n",
    "import seaborn as sns\n",
    "import matplotlib.pyplot as plt\n",
    "\n",
    "# K-Nearest Neighbors Implementation\n",
    "print(\"K-Nearest Neighbors Classification:\")\n",
    "print(\"---------------------------------\")\n",
    "\n",
    "\n",
    "knn_model = KNeighborsClassifier(n_neighbors=5)\n",
    "knn_model.fit(X_train, y_train)\n",
    "\n",
    "\n",
    "knn_predictions = knn_model.predict(X_test)\n",
    "\n",
    "\n",
    "knn_accuracy = accuracy_score(y_test, knn_predictions)\n",
    "print(f\"KNN Model Accuracy: {knn_accuracy:.4f}\")\n",
    "\n",
    "\n",
    "print(\"\\nKNN Classification Report:\")\n",
    "print(classification_report(y_test, knn_predictions))\n",
    "\n",
    "\n",
    "plt.figure(figsize=(8, 6))\n",
    "cm_knn = confusion_matrix(y_test, knn_predictions)\n",
    "sns.heatmap(cm_knn, annot=True, fmt='d', cmap='Blues')\n",
    "plt.title('KNN Confusion Matrix')\n",
    "plt.ylabel('True Label')\n",
    "plt.xlabel('Predicted Label')\n",
    "plt.show()\n",
    "\n",
    "# Naive Bayes Implementation\n",
    "print(\"\\nNaive Bayes Classification:\")\n",
    "print(\"-------------------------\")\n",
    "\n",
    "\n",
    "nb_model = GaussianNB()\n",
    "nb_model.fit(X_train, y_train)\n",
    "\n",
    "\n",
    "nb_predictions = nb_model.predict(X_test)\n",
    "\n",
    "\n",
    "nb_accuracy = accuracy_score(y_test, nb_predictions)\n",
    "print(f\"Naive Bayes Model Accuracy: {nb_accuracy:.4f}\")\n",
    "\n",
    "\n",
    "print(\"\\nNaive Bayes Classification Report:\")\n",
    "print(classification_report(y_test, nb_predictions))\n",
    "\n",
    "\n",
    "plt.figure(figsize=(8, 6))\n",
    "cm_nb = confusion_matrix(y_test, nb_predictions)\n",
    "sns.heatmap(cm_nb, annot=True, fmt='d', cmap='Blues')\n",
    "plt.title('Naive Bayes Confusion Matrix')\n",
    "plt.ylabel('True Label')\n",
    "plt.xlabel('Predicted Label')\n",
    "plt.show()"
   ]
  },
  {
   "cell_type": "markdown",
   "id": "3de98567",
   "metadata": {},
   "source": [
    "Model Comparison Analysis"
   ]
  },
  {
   "cell_type": "markdown",
   "id": "fc988cd2",
   "metadata": {},
   "source": [
    "Let's create a comparison of all models (Logistic Regression, SVC, Random Forest, KNN, and Naive Bayes) to determine the best performer."
   ]
  },
  {
   "cell_type": "code",
   "execution_count": 53,
   "id": "b1ecdc48",
   "metadata": {},
   "outputs": [
    {
     "name": "stdout",
     "output_type": "stream",
     "text": [
      "Model Accuracy Comparison:\n",
      "-----------------------\n",
      "                 Model  Accuracy\n",
      "2        Random Forest  0.904348\n",
      "0  Logistic Regression  0.890683\n",
      "1                  SVC  0.877019\n",
      "3                  KNN  0.867081\n",
      "4          Naive Bayes  0.807453\n"
     ]
    },
    {
     "data": {
      "image/png": "[encoded data removed]",
      "text/plain": [
       "<Figure size 1000x600 with 1 Axes>"
      ]
     },
     "metadata": {},
     "output_type": "display_data"
    },
    {
     "name": "stdout",
     "output_type": "stream",
     "text": [
      "\n",
      "Best Performing Model: Random Forest\n",
      "Accuracy: 0.9043\n"
     ]
    }
   ],
   "source": [
    "# Import required libraries\n",
    "from sklearn.linear_model import LogisticRegression\n",
    "from sklearn.svm import SVC\n",
    "from sklearn.ensemble import RandomForestClassifier\n",
    "from sklearn.neighbors import KNeighborsClassifier\n",
    "from sklearn.naive_bayes import GaussianNB\n",
    "import pandas as pd\n",
    "import matplotlib.pyplot as plt\n",
    "import seaborn as sns\n",
    "\n",
    "# Train all models\n",
    "lr_model = LogisticRegression(random_state=42)\n",
    "svc_model = SVC(kernel='poly', random_state=42)\n",
    "rf_model = RandomForestClassifier(n_estimators=100, random_state=42)\n",
    "knn_model = KNeighborsClassifier(n_neighbors=5)\n",
    "nb_model = GaussianNB()\n",
    "\n",
    "# Fit all models\n",
    "models = [lr_model, svc_model, rf_model, knn_model, nb_model]\n",
    "model_names = ['Logistic Regression', 'SVC', 'Random Forest', 'KNN', 'Naive Bayes']\n",
    "\n",
    "for model in models:\n",
    "    model.fit(X_train, y_train)\n",
    "\n",
    "# Store accuracy scores\n",
    "accuracies = {}\n",
    "for model, name in zip(models, model_names):\n",
    "    accuracies[name] = model.score(X_test, y_test)\n",
    "\n",
    "# Create comparison dataframe\n",
    "models_comparison = pd.DataFrame({\n",
    "    'Model': list(accuracies.keys()),\n",
    "    'Accuracy': list(accuracies.values())\n",
    "})\n",
    "\n",
    "# Sort by accuracy\n",
    "models_comparison = models_comparison.sort_values('Accuracy', ascending=False)\n",
    "\n",
    "# Display comparison table\n",
    "print(\"Model Accuracy Comparison:\")\n",
    "print(\"-----------------------\")\n",
    "print(models_comparison)\n",
    "\n",
    "# Create comparison visualization\n",
    "plt.figure(figsize=(10, 6))\n",
    "sns.barplot(x='Model', y='Accuracy', data=models_comparison)\n",
    "plt.title('Model Performance Comparison')\n",
    "plt.xticks(rotation=45)\n",
    "plt.ylim(0.85, 1.0)\n",
    "plt.tight_layout()\n",
    "plt.show()\n",
    "\n",
    "# Identify and display best model\n",
    "best_model = models_comparison.iloc[0]\n",
    "print(f\"\\nBest Performing Model: {best_model['Model']}\")\n",
    "print(f\"Accuracy: {best_model['Accuracy']:.4f}\")"
   ]
  },
  {
   "cell_type": "markdown",
   "id": "72b4ccf3",
   "metadata": {},
   "source": [
    "HyperParameter Tuning"
   ]
  },
  {
   "cell_type": "markdown",
   "id": "1c000b68",
   "metadata": {},
   "source": [
    "In this part of the project, I conducted hyperparameter tuning for four machine learning algorithms—Logistic Regression, Support Vector Machine (SVC), Random Forest, and K-Nearest Neighbors (KNN)—utilizing GridSearchCV from scikit-learn. Hyperparameter tuning is essential for enhancing the model's efficacy by identifying the optimal parameter combinations for each algorithm.\n",
    "\n",
    "For each of these models, I established a parameter grid that included various values for critical hyperparameters such as regularization strength (C), types of kernels, number of estimators, and maximum depth. I then executed a grid search using 5-fold cross-validation to evaluate the models' effectiveness and discover the best parameters.\n",
    "\n",
    "Upon completion of the tuning process, I assessed the top models on the test set to determine their final accuracy. The outcomes were illustrated in a bar plot to compare the performance of each model visually. Ultimately, the model achieving the highest accuracy was recognized as the best-tuned option for breast cancer classification."
   ]
  },
  {
   "cell_type": "code",
   "execution_count": 54,
   "id": "34964c9d",
   "metadata": {},
   "outputs": [
    {
     "name": "stdout",
     "output_type": "stream",
     "text": [
      "Performing Grid Search...\n",
      "\n",
      "Tuning Logistic Regression...\n",
      "Best parameters: {'C': 1, 'max_iter': 100}\n",
      "Best accuracy: 0.8962\n",
      "\n",
      "Tuning SVC...\n",
      "Best parameters: {'C': 1, 'degree': 2, 'kernel': 'linear'}\n",
      "Best accuracy: 0.8953\n",
      "\n",
      "Tuning Random Forest...\n",
      "Best parameters: {'max_depth': 20, 'min_samples_split': 10, 'n_estimators': 200}\n",
      "Best accuracy: 0.9065\n",
      "\n",
      "Tuning KNN...\n",
      "Best parameters: {'metric': 'euclidean', 'n_neighbors': 9, 'weights': 'uniform'}\n",
      "Best accuracy: 0.8785\n",
      "\n",
      "Tuned Models Accuracy Comparison:\n",
      "--------------------------------\n",
      "                       Model  Accuracy\n",
      "2        Tuned Random Forest  0.901863\n",
      "0  Tuned Logistic Regression  0.890683\n",
      "1                  Tuned SVC  0.881988\n",
      "3                  Tuned KNN  0.870807\n"
     ]
    },
    {
     "data": {
      "image/png": "[encoded data removed]",
      "text/plain": [
       "<Figure size 1000x600 with 1 Axes>"
      ]
     },
     "metadata": {},
     "output_type": "display_data"
    },
    {
     "name": "stdout",
     "output_type": "stream",
     "text": [
      "\n",
      "Best Tuned Model: Tuned Random Forest\n",
      "Accuracy: 0.9019\n"
     ]
    }
   ],
   "source": [
    "from sklearn.model_selection import GridSearchCV\n",
    "\n",
    "# Define parameter grids for each model\n",
    "param_grid_lr = {\n",
    "    'C': [0.001, 0.01, 0.1, 1, 10, 100],\n",
    "    'max_iter': [100, 200, 300]\n",
    "}\n",
    "\n",
    "param_grid_svc = {\n",
    "    'C': [0.1, 1, 10],\n",
    "    'kernel': ['linear', 'rbf', 'poly'],\n",
    "    'degree': [2, 3, 4]  # for poly kernel\n",
    "}\n",
    "\n",
    "param_grid_rf = {\n",
    "    'n_estimators': [100, 200, 300],\n",
    "    'max_depth': [10, 20, 30, None],\n",
    "    'min_samples_split': [2, 5, 10]\n",
    "}\n",
    "\n",
    "param_grid_knn = {\n",
    "    'n_neighbors': [3, 5, 7, 9],\n",
    "    'weights': ['uniform', 'distance'],\n",
    "    'metric': ['euclidean', 'manhattan']\n",
    "}\n",
    "\n",
    "# Create base models\n",
    "lr_model = LogisticRegression(random_state=42)\n",
    "svc_model = SVC(random_state=42)\n",
    "rf_model = RandomForestClassifier(random_state=42)\n",
    "knn_model = KNeighborsClassifier()\n",
    "\n",
    "# Perform Grid Search for each model\n",
    "print(\"Performing Grid Search...\")\n",
    "\n",
    "# Logistic Regression\n",
    "print(\"\\nTuning Logistic Regression...\")\n",
    "grid_lr = GridSearchCV(lr_model, param_grid_lr, cv=5, scoring='accuracy', n_jobs=-1)\n",
    "grid_lr.fit(X_train, y_train)\n",
    "print(f\"Best parameters: {grid_lr.best_params_}\")\n",
    "print(f\"Best accuracy: {grid_lr.best_score_:.4f}\")\n",
    "\n",
    "# SVC\n",
    "print(\"\\nTuning SVC...\")\n",
    "grid_svc = GridSearchCV(svc_model, param_grid_svc, cv=5, scoring='accuracy', n_jobs=-1)\n",
    "grid_svc.fit(X_train, y_train)\n",
    "print(f\"Best parameters: {grid_svc.best_params_}\")\n",
    "print(f\"Best accuracy: {grid_svc.best_score_:.4f}\")\n",
    "\n",
    "# Random Forest\n",
    "print(\"\\nTuning Random Forest...\")\n",
    "grid_rf = GridSearchCV(rf_model, param_grid_rf, cv=5, scoring='accuracy', n_jobs=-1)\n",
    "grid_rf.fit(X_train, y_train)\n",
    "print(f\"Best parameters: {grid_rf.best_params_}\")\n",
    "print(f\"Best accuracy: {grid_rf.best_score_:.4f}\")\n",
    "\n",
    "# KNN\n",
    "print(\"\\nTuning KNN...\")\n",
    "grid_knn = GridSearchCV(knn_model, param_grid_knn, cv=5, scoring='accuracy', n_jobs=-1)\n",
    "grid_knn.fit(X_train, y_train)\n",
    "print(f\"Best parameters: {grid_knn.best_params_}\")\n",
    "print(f\"Best accuracy: {grid_knn.best_score_:.4f}\")\n",
    "\n",
    "# Create comparison of tuned models\n",
    "best_models = {\n",
    "    'Tuned Logistic Regression': grid_lr.best_estimator_,\n",
    "    'Tuned SVC': grid_svc.best_estimator_,\n",
    "    'Tuned Random Forest': grid_rf.best_estimator_,\n",
    "    'Tuned KNN': grid_knn.best_estimator_\n",
    "}\n",
    "\n",
    "# Evaluate tuned models on test set\n",
    "tuned_accuracies = {}\n",
    "for name, model in best_models.items():\n",
    "    tuned_accuracies[name] = model.score(X_test, y_test)\n",
    "\n",
    "# Create and display comparison DataFrame\n",
    "tuned_comparison = pd.DataFrame({\n",
    "    'Model': list(tuned_accuracies.keys()),\n",
    "    'Accuracy': list(tuned_accuracies.values())\n",
    "}).sort_values('Accuracy', ascending=False)\n",
    "\n",
    "print(\"\\nTuned Models Accuracy Comparison:\")\n",
    "print(\"--------------------------------\")\n",
    "print(tuned_comparison)\n",
    "\n",
    "# Visualize tuned model comparison\n",
    "plt.figure(figsize=(10, 6))\n",
    "sns.barplot(x='Model', y='Accuracy', data=tuned_comparison)\n",
    "plt.title('Tuned Models Performance Comparison')\n",
    "plt.xticks(rotation=45)\n",
    "plt.ylim(0.85, 1.0)\n",
    "plt.tight_layout()\n",
    "plt.show()\n",
    "\n",
    "# Identify best tuned model\n",
    "best_tuned_model = tuned_comparison.iloc[0]\n",
    "print(f\"\\nBest Tuned Model: {best_tuned_model['Model']}\")\n",
    "print(f\"Accuracy: {best_tuned_model['Accuracy']:.4f}\")"
   ]
  },
  {
   "cell_type": "markdown",
   "id": "ed0e6abf",
   "metadata": {},
   "source": [
    "Conclusion\n",
    "\n",
    "This project utilized several machine learning models to differentiate breast cancer cases as malignant or benign by employing the Wisconsin Breast Cancer dataset. An extensive analysis and optimization procedure resulted in highly precise classification outcomes. Multiple models were evaluated, including Logistic Regression, Support Vector Classifier (SVC), Random Forest Classifier, K-Nearest Neighbors (KNN), and Naive Bayes. By performing hyperparameter tuning using GridSearchCV and executing 5-fold cross-validation, the performance of the models was significantly enhanced, with each model demonstrating improvements following tuning.\n",
    "\n",
    "The Random Forest Classifier stood out as the top-performing model, attaining the highest accuracy and exhibiting excellent generalization along with strong performance across different metrics. This model serves as a dependable tool for aiding medical practitioners, enhancing diagnostic accuracy, and mitigating the likelihood of misdiagnosis, thus facilitating early cancer detection.\n",
    "\n",
    "For potential advancements, delving into deep learning approaches, applying ensemble methods, and improving feature engineering could further refine the models. The addition of a user-friendly interface, real-time prediction functionalities, and integration into current medical systems would render the tool more applicable for clinical settings.\n",
    "\n",
    "This project underscores the promising role of machine learning in healthcare, bolstering medical decision-making, enhancing diagnostic accuracy, and enabling early intervention in breast cancer cases, with an eye toward broader clinical use in the future."
   ]
  }
 ],
 "metadata": {
  "kaggle": {
   "accelerator": "none",
   "dataSources": [
    {
     "datasetId": 2396275,
     "sourceId": 4045493,
     "sourceType": "datasetVersion"
    }
   ],
   "dockerImageVersionId": 30786,
   "isGpuEnabled": false,
   "isInternetEnabled": false,
   "language": "python",
   "sourceType": "notebook"
  },
  "kernelspec": {
   "display_name": "Python 3",
   "language": "python",
   "name": "python3"
  },
  "language_info": {
   "codemirror_mode": {
    "name": "ipython",
    "version": 3
   },
   "file_extension": ".py",
   "mimetype": "text/x-python",
   "name": "python",
   "nbconvert_exporter": "python",
   "pygments_lexer": "ipython3",
   "version": "3.13.1"
  },
  "papermill": {
   "default_parameters": {},
   "duration": 17.021316,
   "end_time": "2024-11-05T19:00:29.044604",
   "environment_variables": {},
   "exception": null,
   "input_path": "__notebook__.ipynb",
   "output_path": "__notebook__.ipynb",
   "parameters": {},
   "start_time": "2024-11-05T19:00:12.023288",
   "version": "2.6.0"
  }
 },
 "nbformat": 4,
 "nbformat_minor": 5
}
